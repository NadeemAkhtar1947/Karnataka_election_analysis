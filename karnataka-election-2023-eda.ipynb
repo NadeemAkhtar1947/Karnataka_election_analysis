{
 "cells": [
  {
   "cell_type": "code",
   "execution_count": 1,
   "id": "ebb01503",
   "metadata": {
    "execution": {
     "iopub.execute_input": "2023-09-07T17:59:21.432185Z",
     "iopub.status.busy": "2023-09-07T17:59:21.430800Z",
     "iopub.status.idle": "2023-09-07T17:59:23.939611Z",
     "shell.execute_reply": "2023-09-07T17:59:23.937796Z"
    },
    "papermill": {
     "duration": 2.544035,
     "end_time": "2023-09-07T17:59:23.943719",
     "exception": false,
     "start_time": "2023-09-07T17:59:21.399684",
     "status": "completed"
    },
    "tags": []
   },
   "outputs": [],
   "source": [
    "import numpy as np\n",
    "import pandas as pd\n",
    "import matplotlib.pyplot as plt\n",
    "%matplotlib inline\n",
    "import seaborn as sns\n",
    "import warnings\n",
    "warnings.filterwarnings('ignore')"
   ]
  },
  {
   "cell_type": "code",
   "execution_count": 2,
   "id": "9c3009b9",
   "metadata": {
    "execution": {
     "iopub.execute_input": "2023-09-07T17:59:24.012794Z",
     "iopub.status.busy": "2023-09-07T17:59:24.011408Z",
     "iopub.status.idle": "2023-09-07T17:59:40.324823Z",
     "shell.execute_reply": "2023-09-07T17:59:40.322881Z"
    },
    "papermill": {
     "duration": 16.350868,
     "end_time": "2023-09-07T17:59:40.327816",
     "exception": false,
     "start_time": "2023-09-07T17:59:23.976948",
     "status": "completed"
    },
    "tags": []
   },
   "outputs": [
    {
     "name": "stdout",
     "output_type": "stream",
     "text": [
      "Requirement already satisfied: openpyxl in /opt/conda/lib/python3.10/site-packages (3.1.2)\r\n",
      "Requirement already satisfied: et-xmlfile in /opt/conda/lib/python3.10/site-packages (from openpyxl) (1.1.0)\r\n",
      "Note: you may need to restart the kernel to use updated packages.\n"
     ]
    }
   ],
   "source": [
    "pip install openpyxl --upgrade"
   ]
  },
  {
   "cell_type": "code",
   "execution_count": 3,
   "id": "6482efc7",
   "metadata": {
    "execution": {
     "iopub.execute_input": "2023-09-07T17:59:40.391505Z",
     "iopub.status.busy": "2023-09-07T17:59:40.391039Z",
     "iopub.status.idle": "2023-09-07T17:59:40.941701Z",
     "shell.execute_reply": "2023-09-07T17:59:40.940529Z"
    },
    "papermill": {
     "duration": 0.585472,
     "end_time": "2023-09-07T17:59:40.944580",
     "exception": false,
     "start_time": "2023-09-07T17:59:40.359108",
     "status": "completed"
    },
    "scrolled": true,
    "tags": []
   },
   "outputs": [],
   "source": [
    "df=pd.read_excel('/kaggle/input/karnataka-assembly-result-2023-dataset/karnatak_assembly_election_2023.xlsx')\n",
    "#df = pd.read_csv(\"karnataka_election.csv\")"
   ]
  },
  {
   "cell_type": "code",
   "execution_count": 4,
   "id": "c168667b",
   "metadata": {
    "execution": {
     "iopub.execute_input": "2023-09-07T17:59:41.007989Z",
     "iopub.status.busy": "2023-09-07T17:59:41.007386Z",
     "iopub.status.idle": "2023-09-07T17:59:41.017038Z",
     "shell.execute_reply": "2023-09-07T17:59:41.015754Z"
    },
    "papermill": {
     "duration": 0.044555,
     "end_time": "2023-09-07T17:59:41.019382",
     "exception": false,
     "start_time": "2023-09-07T17:59:40.974827",
     "status": "completed"
    },
    "tags": []
   },
   "outputs": [
    {
     "data": {
      "text/plain": [
       "(224, 7)"
      ]
     },
     "execution_count": 4,
     "metadata": {},
     "output_type": "execute_result"
    }
   ],
   "source": [
    "df.shape"
   ]
  },
  {
   "cell_type": "code",
   "execution_count": 5,
   "id": "b26854ff",
   "metadata": {
    "execution": {
     "iopub.execute_input": "2023-09-07T17:59:41.082164Z",
     "iopub.status.busy": "2023-09-07T17:59:41.081745Z",
     "iopub.status.idle": "2023-09-07T17:59:41.108118Z",
     "shell.execute_reply": "2023-09-07T17:59:41.107163Z"
    },
    "papermill": {
     "duration": 0.059932,
     "end_time": "2023-09-07T17:59:41.110744",
     "exception": false,
     "start_time": "2023-09-07T17:59:41.050812",
     "status": "completed"
    },
    "tags": []
   },
   "outputs": [
    {
     "data": {
      "text/html": [
       "<div>\n",
       "<style scoped>\n",
       "    .dataframe tbody tr th:only-of-type {\n",
       "        vertical-align: middle;\n",
       "    }\n",
       "\n",
       "    .dataframe tbody tr th {\n",
       "        vertical-align: top;\n",
       "    }\n",
       "\n",
       "    .dataframe thead th {\n",
       "        text-align: right;\n",
       "    }\n",
       "</style>\n",
       "<table border=\"1\" class=\"dataframe\">\n",
       "  <thead>\n",
       "    <tr style=\"text-align: right;\">\n",
       "      <th></th>\n",
       "      <th>Constituency</th>\n",
       "      <th>Const. No.</th>\n",
       "      <th>Leading Candidate</th>\n",
       "      <th>Leading Party</th>\n",
       "      <th>Trailing Candidate</th>\n",
       "      <th>Trailing Party</th>\n",
       "      <th>Margin</th>\n",
       "    </tr>\n",
       "  </thead>\n",
       "  <tbody>\n",
       "    <tr>\n",
       "      <th>0</th>\n",
       "      <td>Afzalpur</td>\n",
       "      <td>34</td>\n",
       "      <td>M.Y.PATIL</td>\n",
       "      <td>Indian National Congress</td>\n",
       "      <td>NITIN VENKAYYA GUTTEDAR</td>\n",
       "      <td>Independent</td>\n",
       "      <td>4594</td>\n",
       "    </tr>\n",
       "    <tr>\n",
       "      <th>1</th>\n",
       "      <td>Aland</td>\n",
       "      <td>46</td>\n",
       "      <td>Bhojaraj</td>\n",
       "      <td>Indian National Congress</td>\n",
       "      <td>Subhash Guttedar</td>\n",
       "      <td>Bharatiya Janata Party</td>\n",
       "      <td>10348</td>\n",
       "    </tr>\n",
       "    <tr>\n",
       "      <th>2</th>\n",
       "      <td>Anekal</td>\n",
       "      <td>177</td>\n",
       "      <td>B. SHIVANNA</td>\n",
       "      <td>Indian National Congress</td>\n",
       "      <td>SRINIVAS. C. HULLAHALLI</td>\n",
       "      <td>Bharatiya Janata Party</td>\n",
       "      <td>31325</td>\n",
       "    </tr>\n",
       "    <tr>\n",
       "      <th>3</th>\n",
       "      <td>Arabhavi</td>\n",
       "      <td>8</td>\n",
       "      <td>BALACHANDRA LAXMANRAO JARKIHOLI</td>\n",
       "      <td>Bharatiya Janata Party</td>\n",
       "      <td>BHIMAPPA GUNDAPPA GADAD</td>\n",
       "      <td>Independent</td>\n",
       "      <td>71540</td>\n",
       "    </tr>\n",
       "    <tr>\n",
       "      <th>4</th>\n",
       "      <td>Arkalgud</td>\n",
       "      <td>198</td>\n",
       "      <td>A. MANJU</td>\n",
       "      <td>Janata Dal (Secular)</td>\n",
       "      <td>M.T. KRISHNEGOWDA</td>\n",
       "      <td>Independent</td>\n",
       "      <td>19605</td>\n",
       "    </tr>\n",
       "  </tbody>\n",
       "</table>\n",
       "</div>"
      ],
      "text/plain": [
       "  Constituency  Const. No.                Leading Candidate  \\\n",
       "0     Afzalpur          34                        M.Y.PATIL   \n",
       "1        Aland          46                         Bhojaraj   \n",
       "2       Anekal         177                      B. SHIVANNA   \n",
       "3     Arabhavi           8  BALACHANDRA LAXMANRAO JARKIHOLI   \n",
       "4     Arkalgud         198                         A. MANJU   \n",
       "\n",
       "              Leading Party       Trailing Candidate          Trailing Party  \\\n",
       "0  Indian National Congress  NITIN VENKAYYA GUTTEDAR             Independent   \n",
       "1  Indian National Congress         Subhash Guttedar  Bharatiya Janata Party   \n",
       "2  Indian National Congress  SRINIVAS. C. HULLAHALLI  Bharatiya Janata Party   \n",
       "3    Bharatiya Janata Party  BHIMAPPA GUNDAPPA GADAD             Independent   \n",
       "4      Janata Dal (Secular)        M.T. KRISHNEGOWDA             Independent   \n",
       "\n",
       "   Margin  \n",
       "0    4594  \n",
       "1   10348  \n",
       "2   31325  \n",
       "3   71540  \n",
       "4   19605  "
      ]
     },
     "execution_count": 5,
     "metadata": {},
     "output_type": "execute_result"
    }
   ],
   "source": [
    "df.head()"
   ]
  },
  {
   "cell_type": "code",
   "execution_count": 6,
   "id": "3a6b1d8f",
   "metadata": {
    "execution": {
     "iopub.execute_input": "2023-09-07T17:59:41.242105Z",
     "iopub.status.busy": "2023-09-07T17:59:41.240803Z",
     "iopub.status.idle": "2023-09-07T17:59:41.256570Z",
     "shell.execute_reply": "2023-09-07T17:59:41.255320Z"
    },
    "papermill": {
     "duration": 0.11852,
     "end_time": "2023-09-07T17:59:41.259079",
     "exception": false,
     "start_time": "2023-09-07T17:59:41.140559",
     "status": "completed"
    },
    "tags": []
   },
   "outputs": [
    {
     "data": {
      "text/html": [
       "<div>\n",
       "<style scoped>\n",
       "    .dataframe tbody tr th:only-of-type {\n",
       "        vertical-align: middle;\n",
       "    }\n",
       "\n",
       "    .dataframe tbody tr th {\n",
       "        vertical-align: top;\n",
       "    }\n",
       "\n",
       "    .dataframe thead th {\n",
       "        text-align: right;\n",
       "    }\n",
       "</style>\n",
       "<table border=\"1\" class=\"dataframe\">\n",
       "  <thead>\n",
       "    <tr style=\"text-align: right;\">\n",
       "      <th></th>\n",
       "      <th>Constituency</th>\n",
       "      <th>Const. No.</th>\n",
       "      <th>Leading Candidate</th>\n",
       "      <th>Leading Party</th>\n",
       "      <th>Trailing Candidate</th>\n",
       "      <th>Trailing Party</th>\n",
       "      <th>Margin</th>\n",
       "    </tr>\n",
       "  </thead>\n",
       "  <tbody>\n",
       "    <tr>\n",
       "      <th>219</th>\n",
       "      <td>Yelahanka</td>\n",
       "      <td>150</td>\n",
       "      <td>S R VISHWANATH</td>\n",
       "      <td>Bharatiya Janata Party</td>\n",
       "      <td>KESHAVA RAJANNA B</td>\n",
       "      <td>Indian National Congress</td>\n",
       "      <td>64110</td>\n",
       "    </tr>\n",
       "    <tr>\n",
       "      <th>220</th>\n",
       "      <td>Yelburga</td>\n",
       "      <td>63</td>\n",
       "      <td>BASAVARAJ RAYAREDDI</td>\n",
       "      <td>Indian National Congress</td>\n",
       "      <td>ACHAR HALAPPA BASAPPA</td>\n",
       "      <td>Bharatiya Janata Party</td>\n",
       "      <td>17181</td>\n",
       "    </tr>\n",
       "    <tr>\n",
       "      <th>221</th>\n",
       "      <td>Yellapur</td>\n",
       "      <td>81</td>\n",
       "      <td>ARABAIL HEBBAR SHIVARAM</td>\n",
       "      <td>Bharatiya Janata Party</td>\n",
       "      <td>ANDALAGI VEERABHADRAGOUDA SHIVANAGOUD PATIL</td>\n",
       "      <td>Indian National Congress</td>\n",
       "      <td>4004</td>\n",
       "    </tr>\n",
       "    <tr>\n",
       "      <th>222</th>\n",
       "      <td>Yemkanmardi</td>\n",
       "      <td>10</td>\n",
       "      <td>SATISH LAXMANARAO JARKIHOLI</td>\n",
       "      <td>Indian National Congress</td>\n",
       "      <td>BASAVARAJ HUNDRI</td>\n",
       "      <td>Bharatiya Janata Party</td>\n",
       "      <td>57211</td>\n",
       "    </tr>\n",
       "    <tr>\n",
       "      <th>223</th>\n",
       "      <td>Yeshvanthapura</td>\n",
       "      <td>153</td>\n",
       "      <td>S.T. SOMASHEKAR</td>\n",
       "      <td>Bharatiya Janata Party</td>\n",
       "      <td>T.N.JAVARAYI GOWDA</td>\n",
       "      <td>Janata Dal (Secular)</td>\n",
       "      <td>15118</td>\n",
       "    </tr>\n",
       "  </tbody>\n",
       "</table>\n",
       "</div>"
      ],
      "text/plain": [
       "       Constituency  Const. No.            Leading Candidate  \\\n",
       "219       Yelahanka         150               S R VISHWANATH   \n",
       "220        Yelburga          63          BASAVARAJ RAYAREDDI   \n",
       "221        Yellapur          81      ARABAIL HEBBAR SHIVARAM   \n",
       "222     Yemkanmardi          10  SATISH LAXMANARAO JARKIHOLI   \n",
       "223  Yeshvanthapura         153              S.T. SOMASHEKAR   \n",
       "\n",
       "                Leading Party                           Trailing Candidate  \\\n",
       "219    Bharatiya Janata Party                            KESHAVA RAJANNA B   \n",
       "220  Indian National Congress                        ACHAR HALAPPA BASAPPA   \n",
       "221    Bharatiya Janata Party  ANDALAGI VEERABHADRAGOUDA SHIVANAGOUD PATIL   \n",
       "222  Indian National Congress                             BASAVARAJ HUNDRI   \n",
       "223    Bharatiya Janata Party                           T.N.JAVARAYI GOWDA   \n",
       "\n",
       "               Trailing Party  Margin  \n",
       "219  Indian National Congress   64110  \n",
       "220    Bharatiya Janata Party   17181  \n",
       "221  Indian National Congress    4004  \n",
       "222    Bharatiya Janata Party   57211  \n",
       "223      Janata Dal (Secular)   15118  "
      ]
     },
     "execution_count": 6,
     "metadata": {},
     "output_type": "execute_result"
    }
   ],
   "source": [
    "df.tail()"
   ]
  },
  {
   "cell_type": "code",
   "execution_count": 7,
   "id": "7a1e733d",
   "metadata": {
    "execution": {
     "iopub.execute_input": "2023-09-07T17:59:41.321228Z",
     "iopub.status.busy": "2023-09-07T17:59:41.320809Z",
     "iopub.status.idle": "2023-09-07T17:59:41.351155Z",
     "shell.execute_reply": "2023-09-07T17:59:41.349600Z"
    },
    "papermill": {
     "duration": 0.065289,
     "end_time": "2023-09-07T17:59:41.354135",
     "exception": false,
     "start_time": "2023-09-07T17:59:41.288846",
     "status": "completed"
    },
    "tags": []
   },
   "outputs": [
    {
     "name": "stdout",
     "output_type": "stream",
     "text": [
      "<class 'pandas.core.frame.DataFrame'>\n",
      "RangeIndex: 224 entries, 0 to 223\n",
      "Data columns (total 7 columns):\n",
      " #   Column              Non-Null Count  Dtype \n",
      "---  ------              --------------  ----- \n",
      " 0   Constituency        224 non-null    object\n",
      " 1   Const. No.          224 non-null    int64 \n",
      " 2   Leading Candidate   224 non-null    object\n",
      " 3   Leading Party       224 non-null    object\n",
      " 4   Trailing Candidate  224 non-null    object\n",
      " 5   Trailing Party      224 non-null    object\n",
      " 6   Margin              224 non-null    int64 \n",
      "dtypes: int64(2), object(5)\n",
      "memory usage: 12.4+ KB\n"
     ]
    }
   ],
   "source": [
    "df.info()"
   ]
  },
  {
   "cell_type": "code",
   "execution_count": 8,
   "id": "f73c7657",
   "metadata": {
    "execution": {
     "iopub.execute_input": "2023-09-07T17:59:41.419475Z",
     "iopub.status.busy": "2023-09-07T17:59:41.419037Z",
     "iopub.status.idle": "2023-09-07T17:59:41.441524Z",
     "shell.execute_reply": "2023-09-07T17:59:41.439965Z"
    },
    "papermill": {
     "duration": 0.057426,
     "end_time": "2023-09-07T17:59:41.444394",
     "exception": false,
     "start_time": "2023-09-07T17:59:41.386968",
     "status": "completed"
    },
    "tags": []
   },
   "outputs": [
    {
     "data": {
      "text/html": [
       "<div>\n",
       "<style scoped>\n",
       "    .dataframe tbody tr th:only-of-type {\n",
       "        vertical-align: middle;\n",
       "    }\n",
       "\n",
       "    .dataframe tbody tr th {\n",
       "        vertical-align: top;\n",
       "    }\n",
       "\n",
       "    .dataframe thead th {\n",
       "        text-align: right;\n",
       "    }\n",
       "</style>\n",
       "<table border=\"1\" class=\"dataframe\">\n",
       "  <thead>\n",
       "    <tr style=\"text-align: right;\">\n",
       "      <th></th>\n",
       "      <th>Const. No.</th>\n",
       "      <th>Margin</th>\n",
       "    </tr>\n",
       "  </thead>\n",
       "  <tbody>\n",
       "    <tr>\n",
       "      <th>count</th>\n",
       "      <td>224.000000</td>\n",
       "      <td>224.000000</td>\n",
       "    </tr>\n",
       "    <tr>\n",
       "      <th>mean</th>\n",
       "      <td>112.500000</td>\n",
       "      <td>20944.397321</td>\n",
       "    </tr>\n",
       "    <tr>\n",
       "      <th>std</th>\n",
       "      <td>64.807407</td>\n",
       "      <td>17839.688316</td>\n",
       "    </tr>\n",
       "    <tr>\n",
       "      <th>min</th>\n",
       "      <td>1.000000</td>\n",
       "      <td>105.000000</td>\n",
       "    </tr>\n",
       "    <tr>\n",
       "      <th>25%</th>\n",
       "      <td>56.750000</td>\n",
       "      <td>7842.500000</td>\n",
       "    </tr>\n",
       "    <tr>\n",
       "      <th>50%</th>\n",
       "      <td>112.500000</td>\n",
       "      <td>15968.500000</td>\n",
       "    </tr>\n",
       "    <tr>\n",
       "      <th>75%</th>\n",
       "      <td>168.250000</td>\n",
       "      <td>30774.500000</td>\n",
       "    </tr>\n",
       "    <tr>\n",
       "      <th>max</th>\n",
       "      <td>224.000000</td>\n",
       "      <td>122392.000000</td>\n",
       "    </tr>\n",
       "  </tbody>\n",
       "</table>\n",
       "</div>"
      ],
      "text/plain": [
       "       Const. No.         Margin\n",
       "count  224.000000     224.000000\n",
       "mean   112.500000   20944.397321\n",
       "std     64.807407   17839.688316\n",
       "min      1.000000     105.000000\n",
       "25%     56.750000    7842.500000\n",
       "50%    112.500000   15968.500000\n",
       "75%    168.250000   30774.500000\n",
       "max    224.000000  122392.000000"
      ]
     },
     "execution_count": 8,
     "metadata": {},
     "output_type": "execute_result"
    }
   ],
   "source": [
    "df.describe()"
   ]
  },
  {
   "cell_type": "code",
   "execution_count": 9,
   "id": "e0f9048a",
   "metadata": {
    "execution": {
     "iopub.execute_input": "2023-09-07T17:59:41.510388Z",
     "iopub.status.busy": "2023-09-07T17:59:41.509950Z",
     "iopub.status.idle": "2023-09-07T17:59:41.520112Z",
     "shell.execute_reply": "2023-09-07T17:59:41.518586Z"
    },
    "papermill": {
     "duration": 0.044857,
     "end_time": "2023-09-07T17:59:41.522852",
     "exception": false,
     "start_time": "2023-09-07T17:59:41.477995",
     "status": "completed"
    },
    "tags": []
   },
   "outputs": [
    {
     "data": {
      "text/plain": [
       "Constituency          0\n",
       "Const. No.            0\n",
       "Leading Candidate     0\n",
       "Leading Party         0\n",
       "Trailing Candidate    0\n",
       "Trailing Party        0\n",
       "Margin                0\n",
       "dtype: int64"
      ]
     },
     "execution_count": 9,
     "metadata": {},
     "output_type": "execute_result"
    }
   ],
   "source": [
    "df.isnull().sum()"
   ]
  },
  {
   "cell_type": "code",
   "execution_count": 10,
   "id": "1c34934c",
   "metadata": {
    "execution": {
     "iopub.execute_input": "2023-09-07T17:59:41.590084Z",
     "iopub.status.busy": "2023-09-07T17:59:41.589691Z",
     "iopub.status.idle": "2023-09-07T17:59:41.597348Z",
     "shell.execute_reply": "2023-09-07T17:59:41.596123Z"
    },
    "papermill": {
     "duration": 0.043797,
     "end_time": "2023-09-07T17:59:41.599704",
     "exception": false,
     "start_time": "2023-09-07T17:59:41.555907",
     "status": "completed"
    },
    "tags": []
   },
   "outputs": [
    {
     "data": {
      "text/plain": [
       "Index(['Constituency', 'Const. No.', 'Leading Candidate', 'Leading Party',\n",
       "       'Trailing Candidate', 'Trailing Party', 'Margin'],\n",
       "      dtype='object')"
      ]
     },
     "execution_count": 10,
     "metadata": {},
     "output_type": "execute_result"
    }
   ],
   "source": [
    "df.columns"
   ]
  },
  {
   "cell_type": "markdown",
   "id": "7abe6597",
   "metadata": {
    "papermill": {
     "duration": 0.031372,
     "end_time": "2023-09-07T17:59:41.662708",
     "exception": false,
     "start_time": "2023-09-07T17:59:41.631336",
     "status": "completed"
    },
    "tags": []
   },
   "source": [
    "# a) . Get unique party from Leading Party column"
   ]
  },
  {
   "cell_type": "code",
   "execution_count": 11,
   "id": "47e95d41",
   "metadata": {
    "execution": {
     "iopub.execute_input": "2023-09-07T17:59:41.729325Z",
     "iopub.status.busy": "2023-09-07T17:59:41.728895Z",
     "iopub.status.idle": "2023-09-07T17:59:41.736965Z",
     "shell.execute_reply": "2023-09-07T17:59:41.735666Z"
    },
    "papermill": {
     "duration": 0.045047,
     "end_time": "2023-09-07T17:59:41.739793",
     "exception": false,
     "start_time": "2023-09-07T17:59:41.694746",
     "status": "completed"
    },
    "tags": []
   },
   "outputs": [
    {
     "data": {
      "text/plain": [
       "array(['Indian National Congress', 'Bharatiya Janata Party',\n",
       "       'Janata Dal (Secular)', 'Kalyana Rajya Pragathi Paksha',\n",
       "       'Independent', 'Sarvodaya Karnataka Paksha'], dtype=object)"
      ]
     },
     "execution_count": 11,
     "metadata": {},
     "output_type": "execute_result"
    }
   ],
   "source": [
    "df['Leading Party'].unique()"
   ]
  },
  {
   "cell_type": "markdown",
   "id": "92251fab",
   "metadata": {
    "papermill": {
     "duration": 0.032644,
     "end_time": "2023-09-07T17:59:41.803372",
     "exception": false,
     "start_time": "2023-09-07T17:59:41.770728",
     "status": "completed"
    },
    "tags": []
   },
   "source": [
    "# b) . Count no of times a particular party occur in Leading Party column"
   ]
  },
  {
   "cell_type": "code",
   "execution_count": 12,
   "id": "ccf3ea10",
   "metadata": {
    "execution": {
     "iopub.execute_input": "2023-09-07T17:59:41.871491Z",
     "iopub.status.busy": "2023-09-07T17:59:41.871057Z",
     "iopub.status.idle": "2023-09-07T17:59:41.879880Z",
     "shell.execute_reply": "2023-09-07T17:59:41.878666Z"
    },
    "papermill": {
     "duration": 0.04552,
     "end_time": "2023-09-07T17:59:41.882605",
     "exception": false,
     "start_time": "2023-09-07T17:59:41.837085",
     "status": "completed"
    },
    "tags": []
   },
   "outputs": [
    {
     "data": {
      "text/plain": [
       "Leading Party\n",
       "Indian National Congress         136\n",
       "Bharatiya Janata Party            65\n",
       "Janata Dal (Secular)              19\n",
       "Independent                        2\n",
       "Kalyana Rajya Pragathi Paksha      1\n",
       "Sarvodaya Karnataka Paksha         1\n",
       "Name: count, dtype: int64"
      ]
     },
     "execution_count": 12,
     "metadata": {},
     "output_type": "execute_result"
    }
   ],
   "source": [
    "df['Leading Party'].value_counts()"
   ]
  },
  {
   "cell_type": "markdown",
   "id": "1380da05",
   "metadata": {
    "papermill": {
     "duration": 0.030983,
     "end_time": "2023-09-07T17:59:41.946928",
     "exception": false,
     "start_time": "2023-09-07T17:59:41.915945",
     "status": "completed"
    },
    "tags": []
   },
   "source": [
    "# c) . Distribution of leading candidate by Leading Party "
   ]
  },
  {
   "cell_type": "code",
   "execution_count": 13,
   "id": "e7ee2fe6",
   "metadata": {
    "execution": {
     "iopub.execute_input": "2023-09-07T17:59:42.015740Z",
     "iopub.status.busy": "2023-09-07T17:59:42.015328Z",
     "iopub.status.idle": "2023-09-07T17:59:42.488817Z",
     "shell.execute_reply": "2023-09-07T17:59:42.487446Z"
    },
    "papermill": {
     "duration": 0.513155,
     "end_time": "2023-09-07T17:59:42.493033",
     "exception": false,
     "start_time": "2023-09-07T17:59:41.979878",
     "status": "completed"
    },
    "tags": []
   },
   "outputs": [
    {
     "data": {
      "image/png": "[encoded data removed]",
      "text/plain": [
       "<Figure size 1400x1400 with 1 Axes>"
      ]
     },
     "metadata": {},
     "output_type": "display_data"
    }
   ],
   "source": [
    "leading_candidate_distribution_by_leading_party = df['Leading Party'].value_counts()\n",
    "plt.figure(figsize=(14,14))\n",
    "leading_candidate_distribution_by_leading_party.plot(kind='pie', autopct='%1.1f%%', startangle=360, colors=plt.cm.Paired.colors)\n",
    "\n",
    "# Create a pie chart\n",
    "plt.title('Distribution of leading candidate by Leading Party',color='indigo',size=20)\n",
    "plt.axis('equal')  # Equal aspect ratio ensures that pie is drawn as a circle\n",
    "\n",
    "plt.show()"
   ]
  },
  {
   "cell_type": "markdown",
   "id": "d975cf84",
   "metadata": {
    "papermill": {
     "duration": 0.033567,
     "end_time": "2023-09-07T17:59:42.561362",
     "exception": false,
     "start_time": "2023-09-07T17:59:42.527795",
     "status": "completed"
    },
    "tags": []
   },
   "source": [
    "# d) . Count of Leading candidate from each Party using countplot (seaborn)"
   ]
  },
  {
   "cell_type": "code",
   "execution_count": 14,
   "id": "9168200d",
   "metadata": {
    "execution": {
     "iopub.execute_input": "2023-09-07T17:59:42.630332Z",
     "iopub.status.busy": "2023-09-07T17:59:42.629478Z",
     "iopub.status.idle": "2023-09-07T17:59:43.067254Z",
     "shell.execute_reply": "2023-09-07T17:59:43.066140Z"
    },
    "papermill": {
     "duration": 0.475982,
     "end_time": "2023-09-07T17:59:43.069989",
     "exception": false,
     "start_time": "2023-09-07T17:59:42.594007",
     "status": "completed"
    },
    "tags": []
   },
   "outputs": [
    {
     "data": {
      "text/plain": [
       "Text(0.5, 1.0, 'Count of Leading candidate from each Party')"
      ]
     },
     "execution_count": 14,
     "metadata": {},
     "output_type": "execute_result"
    },
    {
     "data": {
      "image/png": "[encoded data removed]",
      "text/plain": [
       "<Figure size 1400x600 with 1 Axes>"
      ]
     },
     "metadata": {},
     "output_type": "display_data"
    }
   ],
   "source": [
    "plt.figure(figsize=(14,6))\n",
    "sns.countplot(data=df,x='Leading Party',order=df['Leading Party'].value_counts().index, palette='rainbow')\n",
    "plt.xticks(rotation=90)\n",
    "\n",
    "plt.xlabel('Leading Party',color='green', size=20)\n",
    "plt.ylabel('Count',color='green', size=20)\n",
    "plt.title('Count of Leading candidate from each Party',color='olive', size=20)"
   ]
  },
  {
   "cell_type": "markdown",
   "id": "e093db61",
   "metadata": {
    "papermill": {
     "duration": 0.034378,
     "end_time": "2023-09-07T17:59:43.138069",
     "exception": false,
     "start_time": "2023-09-07T17:59:43.103691",
     "status": "completed"
    },
    "tags": []
   },
   "source": [
    "# e) . Count of Leading candidate from each Party using bar plot"
   ]
  },
  {
   "cell_type": "code",
   "execution_count": 15,
   "id": "fac283de",
   "metadata": {
    "execution": {
     "iopub.execute_input": "2023-09-07T17:59:43.207731Z",
     "iopub.status.busy": "2023-09-07T17:59:43.207290Z",
     "iopub.status.idle": "2023-09-07T17:59:43.706297Z",
     "shell.execute_reply": "2023-09-07T17:59:43.705146Z"
    },
    "papermill": {
     "duration": 0.53752,
     "end_time": "2023-09-07T17:59:43.708995",
     "exception": false,
     "start_time": "2023-09-07T17:59:43.171475",
     "status": "completed"
    },
    "tags": []
   },
   "outputs": [
    {
     "data": {
      "image/png": "[encoded data removed]",
      "text/plain": [
       "<Figure size 1400x800 with 1 Axes>"
      ]
     },
     "metadata": {},
     "output_type": "display_data"
    }
   ],
   "source": [
    "# Count the occurrences of each party\n",
    "leading_candidate_counts = df['Leading Party'].value_counts()\n",
    "\n",
    "# Create a bar plot\n",
    "plt.figure(figsize=(14, 8))\n",
    "leading_candidate_counts.plot(kind='bar', color='indigo')\n",
    "\n",
    "# Customize the plot\n",
    "plt.xlabel('Leading Party',color='green', size=20)\n",
    "plt.ylabel('Count',color='green', size=20)\n",
    "plt.title('Count of Leading candidate from each Party',color='olive', size=20)\n",
    "plt.xticks(rotation=90)\n",
    "\n",
    "# Show the plot\n",
    "plt.tight_layout()\n",
    "plt.show()"
   ]
  },
  {
   "cell_type": "markdown",
   "id": "992c908c",
   "metadata": {
    "papermill": {
     "duration": 0.034665,
     "end_time": "2023-09-07T17:59:43.778042",
     "exception": false,
     "start_time": "2023-09-07T17:59:43.743377",
     "status": "completed"
    },
    "tags": []
   },
   "source": [
    "# Trailing Party Analysis"
   ]
  },
  {
   "cell_type": "markdown",
   "id": "07c328fb",
   "metadata": {
    "papermill": {
     "duration": 0.036034,
     "end_time": "2023-09-07T17:59:43.848426",
     "exception": false,
     "start_time": "2023-09-07T17:59:43.812392",
     "status": "completed"
    },
    "tags": []
   },
   "source": [
    "# a) . Get unique party from Trailing Party column"
   ]
  },
  {
   "cell_type": "code",
   "execution_count": 16,
   "id": "5b151c38",
   "metadata": {
    "execution": {
     "iopub.execute_input": "2023-09-07T17:59:43.920411Z",
     "iopub.status.busy": "2023-09-07T17:59:43.919898Z",
     "iopub.status.idle": "2023-09-07T17:59:43.928305Z",
     "shell.execute_reply": "2023-09-07T17:59:43.927098Z"
    },
    "papermill": {
     "duration": 0.047926,
     "end_time": "2023-09-07T17:59:43.930979",
     "exception": false,
     "start_time": "2023-09-07T17:59:43.883053",
     "status": "completed"
    },
    "tags": []
   },
   "outputs": [
    {
     "data": {
      "text/plain": [
       "array(['Independent', 'Bharatiya Janata Party', 'Janata Dal (Secular)',\n",
       "       'Indian National Congress', 'Kalyana Rajya Pragathi Paksha',\n",
       "       'Nationalist Congress Party', 'Bahujan Samaj Party'], dtype=object)"
      ]
     },
     "execution_count": 16,
     "metadata": {},
     "output_type": "execute_result"
    }
   ],
   "source": [
    "df['Trailing Party'].unique()"
   ]
  },
  {
   "cell_type": "markdown",
   "id": "abb57a92",
   "metadata": {
    "papermill": {
     "duration": 0.035033,
     "end_time": "2023-09-07T17:59:44.000353",
     "exception": false,
     "start_time": "2023-09-07T17:59:43.965320",
     "status": "completed"
    },
    "tags": []
   },
   "source": [
    "# b) . Count no of times a particular party occur in Trailing Party column"
   ]
  },
  {
   "cell_type": "code",
   "execution_count": 17,
   "id": "0d3f5884",
   "metadata": {
    "execution": {
     "iopub.execute_input": "2023-09-07T17:59:44.075821Z",
     "iopub.status.busy": "2023-09-07T17:59:44.074666Z",
     "iopub.status.idle": "2023-09-07T17:59:44.084561Z",
     "shell.execute_reply": "2023-09-07T17:59:44.083303Z"
    },
    "papermill": {
     "duration": 0.049791,
     "end_time": "2023-09-07T17:59:44.087136",
     "exception": false,
     "start_time": "2023-09-07T17:59:44.037345",
     "status": "completed"
    },
    "tags": []
   },
   "outputs": [
    {
     "data": {
      "text/plain": [
       "Trailing Party\n",
       "Bharatiya Janata Party           112\n",
       "Indian National Congress          65\n",
       "Janata Dal (Secular)              33\n",
       "Independent                       11\n",
       "Kalyana Rajya Pragathi Paksha      1\n",
       "Nationalist Congress Party         1\n",
       "Bahujan Samaj Party                1\n",
       "Name: count, dtype: int64"
      ]
     },
     "execution_count": 17,
     "metadata": {},
     "output_type": "execute_result"
    }
   ],
   "source": [
    "df['Trailing Party'].value_counts()"
   ]
  },
  {
   "cell_type": "markdown",
   "id": "e6f92e77",
   "metadata": {
    "papermill": {
     "duration": 0.036667,
     "end_time": "2023-09-07T17:59:44.158764",
     "exception": false,
     "start_time": "2023-09-07T17:59:44.122097",
     "status": "completed"
    },
    "tags": []
   },
   "source": [
    "# c) . Distribution of Trailing candidate by Trailing Party using pie chart"
   ]
  },
  {
   "cell_type": "code",
   "execution_count": 18,
   "id": "6cae1063",
   "metadata": {
    "execution": {
     "iopub.execute_input": "2023-09-07T17:59:44.230662Z",
     "iopub.status.busy": "2023-09-07T17:59:44.230191Z",
     "iopub.status.idle": "2023-09-07T17:59:44.574282Z",
     "shell.execute_reply": "2023-09-07T17:59:44.573094Z"
    },
    "papermill": {
     "duration": 0.384092,
     "end_time": "2023-09-07T17:59:44.577647",
     "exception": false,
     "start_time": "2023-09-07T17:59:44.193555",
     "status": "completed"
    },
    "tags": []
   },
   "outputs": [
    {
     "data": {
      "image/png": "[encoded data removed]",
      "text/plain": [
       "<Figure size 1200x1200 with 1 Axes>"
      ]
     },
     "metadata": {},
     "output_type": "display_data"
    }
   ],
   "source": [
    "trailing_candidate_distribution_by_leading_party = df['Trailing Party'].value_counts()\n",
    "plt.figure(figsize=(12,12))\n",
    "trailing_candidate_distribution_by_leading_party.plot(kind='pie', autopct='%1.1f%%', startangle=360, colors=plt.cm.Paired.colors)\n",
    "\n",
    "# Create a pie chart\n",
    "plt.title('Distribution of Trailing candidate by Trailing Party',color='indigo',size=20)\n",
    "plt.axis('equal')  # Equal aspect ratio ensures that pie is drawn as a circle\n",
    "\n",
    "plt.show()"
   ]
  },
  {
   "cell_type": "markdown",
   "id": "caed4514",
   "metadata": {
    "papermill": {
     "duration": 0.036179,
     "end_time": "2023-09-07T17:59:44.649859",
     "exception": false,
     "start_time": "2023-09-07T17:59:44.613680",
     "status": "completed"
    },
    "tags": []
   },
   "source": [
    "# d) . Count of Trailing candidate from each Party using countplot (seaborn)"
   ]
  },
  {
   "cell_type": "code",
   "execution_count": 19,
   "id": "4786eea1",
   "metadata": {
    "execution": {
     "iopub.execute_input": "2023-09-07T17:59:44.724616Z",
     "iopub.status.busy": "2023-09-07T17:59:44.723738Z",
     "iopub.status.idle": "2023-09-07T17:59:45.142159Z",
     "shell.execute_reply": "2023-09-07T17:59:45.140191Z"
    },
    "papermill": {
     "duration": 0.459925,
     "end_time": "2023-09-07T17:59:45.145753",
     "exception": false,
     "start_time": "2023-09-07T17:59:44.685828",
     "status": "completed"
    },
    "tags": []
   },
   "outputs": [
    {
     "data": {
      "text/plain": [
       "Text(0.5, 1.0, 'Count of Trailing candidate from each Party')"
      ]
     },
     "execution_count": 19,
     "metadata": {},
     "output_type": "execute_result"
    },
    {
     "data": {
      "image/png": "[encoded data removed]",
      "text/plain": [
       "<Figure size 1400x600 with 1 Axes>"
      ]
     },
     "metadata": {},
     "output_type": "display_data"
    }
   ],
   "source": [
    "plt.figure(figsize=(14,6))\n",
    "sns.countplot(data=df,x='Trailing Party',order=df['Trailing Party'].value_counts().index, palette='rainbow')\n",
    "plt.xticks(rotation=90)\n",
    "\n",
    "plt.xlabel('Trailing Party',color='green', size=20)\n",
    "plt.ylabel('Count',color='green', size=20)\n",
    "plt.title('Count of Trailing candidate from each Party',color='red', size=20)"
   ]
  },
  {
   "cell_type": "markdown",
   "id": "74c5c575",
   "metadata": {
    "papermill": {
     "duration": 0.038791,
     "end_time": "2023-09-07T17:59:45.225746",
     "exception": false,
     "start_time": "2023-09-07T17:59:45.186955",
     "status": "completed"
    },
    "tags": []
   },
   "source": [
    "# e) . Count of Trailing candidate from each Party using bar plot"
   ]
  },
  {
   "cell_type": "code",
   "execution_count": 20,
   "id": "737aaadb",
   "metadata": {
    "execution": {
     "iopub.execute_input": "2023-09-07T17:59:45.306322Z",
     "iopub.status.busy": "2023-09-07T17:59:45.305871Z",
     "iopub.status.idle": "2023-09-07T17:59:45.784214Z",
     "shell.execute_reply": "2023-09-07T17:59:45.783263Z"
    },
    "papermill": {
     "duration": 0.521215,
     "end_time": "2023-09-07T17:59:45.786898",
     "exception": false,
     "start_time": "2023-09-07T17:59:45.265683",
     "status": "completed"
    },
    "tags": []
   },
   "outputs": [
    {
     "data": {
      "image/png": "[encoded data removed]",
      "text/plain": [
       "<Figure size 1400x800 with 1 Axes>"
      ]
     },
     "metadata": {},
     "output_type": "display_data"
    }
   ],
   "source": [
    "# Count the no of trailing candidate in each party\n",
    "trailing_candidate_counts = df['Trailing Party'].value_counts()\n",
    "\n",
    "# Create a bar plot\n",
    "plt.figure(figsize=(14, 8))\n",
    "trailing_candidate_counts.plot(kind='bar', color='indigo')\n",
    "\n",
    "# Customize the plot\n",
    "plt.xlabel('Trailing Party',color='green', size=20)\n",
    "plt.ylabel('Count',color='green', size=20)\n",
    "plt.title('Count of Trailing candidate from each Party',color='red', size=20)\n",
    "plt.xticks(rotation=90)\n",
    "\n",
    "# Show the plot\n",
    "plt.tight_layout()\n",
    "plt.show()"
   ]
  },
  {
   "cell_type": "code",
   "execution_count": 21,
   "id": "fccc23fd",
   "metadata": {
    "execution": {
     "iopub.execute_input": "2023-09-07T17:59:45.869567Z",
     "iopub.status.busy": "2023-09-07T17:59:45.868287Z",
     "iopub.status.idle": "2023-09-07T17:59:45.884321Z",
     "shell.execute_reply": "2023-09-07T17:59:45.883358Z"
    },
    "papermill": {
     "duration": 0.061381,
     "end_time": "2023-09-07T17:59:45.887415",
     "exception": false,
     "start_time": "2023-09-07T17:59:45.826034",
     "status": "completed"
    },
    "tags": []
   },
   "outputs": [
    {
     "data": {
      "text/html": [
       "<div>\n",
       "<style scoped>\n",
       "    .dataframe tbody tr th:only-of-type {\n",
       "        vertical-align: middle;\n",
       "    }\n",
       "\n",
       "    .dataframe tbody tr th {\n",
       "        vertical-align: top;\n",
       "    }\n",
       "\n",
       "    .dataframe thead th {\n",
       "        text-align: right;\n",
       "    }\n",
       "</style>\n",
       "<table border=\"1\" class=\"dataframe\">\n",
       "  <thead>\n",
       "    <tr style=\"text-align: right;\">\n",
       "      <th></th>\n",
       "      <th>Leading Party</th>\n",
       "      <th>Margin</th>\n",
       "    </tr>\n",
       "  </thead>\n",
       "  <tbody>\n",
       "    <tr>\n",
       "      <th>111</th>\n",
       "      <td>Indian National Congress</td>\n",
       "      <td>122392</td>\n",
       "    </tr>\n",
       "  </tbody>\n",
       "</table>\n",
       "</div>"
      ],
      "text/plain": [
       "                Leading Party  Margin\n",
       "111  Indian National Congress  122392"
      ]
     },
     "execution_count": 21,
     "metadata": {},
     "output_type": "execute_result"
    }
   ],
   "source": [
    "highest_margin_by_leading_party = df[['Leading Party', 'Margin']].sort_values(by='Margin', ascending=False).head(1)\n",
    "highest_margin_by_leading_party"
   ]
  },
  {
   "cell_type": "code",
   "execution_count": 22,
   "id": "d4047cda",
   "metadata": {
    "execution": {
     "iopub.execute_input": "2023-09-07T17:59:45.967834Z",
     "iopub.status.busy": "2023-09-07T17:59:45.966742Z",
     "iopub.status.idle": "2023-09-07T17:59:45.978919Z",
     "shell.execute_reply": "2023-09-07T17:59:45.977714Z"
    },
    "papermill": {
     "duration": 0.055378,
     "end_time": "2023-09-07T17:59:45.981335",
     "exception": false,
     "start_time": "2023-09-07T17:59:45.925957",
     "status": "completed"
    },
    "tags": []
   },
   "outputs": [
    {
     "data": {
      "text/html": [
       "<div>\n",
       "<style scoped>\n",
       "    .dataframe tbody tr th:only-of-type {\n",
       "        vertical-align: middle;\n",
       "    }\n",
       "\n",
       "    .dataframe tbody tr th {\n",
       "        vertical-align: top;\n",
       "    }\n",
       "\n",
       "    .dataframe thead th {\n",
       "        text-align: right;\n",
       "    }\n",
       "</style>\n",
       "<table border=\"1\" class=\"dataframe\">\n",
       "  <thead>\n",
       "    <tr style=\"text-align: right;\">\n",
       "      <th></th>\n",
       "      <th>Leading Party</th>\n",
       "      <th>Margin</th>\n",
       "    </tr>\n",
       "  </thead>\n",
       "  <tbody>\n",
       "    <tr>\n",
       "      <th>64</th>\n",
       "      <td>Indian National Congress</td>\n",
       "      <td>105</td>\n",
       "    </tr>\n",
       "  </tbody>\n",
       "</table>\n",
       "</div>"
      ],
      "text/plain": [
       "               Leading Party  Margin\n",
       "64  Indian National Congress     105"
      ]
     },
     "execution_count": 22,
     "metadata": {},
     "output_type": "execute_result"
    }
   ],
   "source": [
    "lowest_margin_by_leading_party = df[['Leading Party', 'Margin']].sort_values(by='Margin', ascending=True).head(1)\n",
    "lowest_margin_by_leading_party"
   ]
  },
  {
   "cell_type": "code",
   "execution_count": 23,
   "id": "47629670",
   "metadata": {
    "execution": {
     "iopub.execute_input": "2023-09-07T17:59:46.061981Z",
     "iopub.status.busy": "2023-09-07T17:59:46.061201Z",
     "iopub.status.idle": "2023-09-07T17:59:46.072453Z",
     "shell.execute_reply": "2023-09-07T17:59:46.071595Z"
    },
    "papermill": {
     "duration": 0.055043,
     "end_time": "2023-09-07T17:59:46.074807",
     "exception": false,
     "start_time": "2023-09-07T17:59:46.019764",
     "status": "completed"
    },
    "tags": []
   },
   "outputs": [
    {
     "data": {
      "text/html": [
       "<div>\n",
       "<style scoped>\n",
       "    .dataframe tbody tr th:only-of-type {\n",
       "        vertical-align: middle;\n",
       "    }\n",
       "\n",
       "    .dataframe tbody tr th {\n",
       "        vertical-align: top;\n",
       "    }\n",
       "\n",
       "    .dataframe thead th {\n",
       "        text-align: right;\n",
       "    }\n",
       "</style>\n",
       "<table border=\"1\" class=\"dataframe\">\n",
       "  <thead>\n",
       "    <tr style=\"text-align: right;\">\n",
       "      <th></th>\n",
       "      <th>Trailing Party</th>\n",
       "      <th>Margin</th>\n",
       "    </tr>\n",
       "  </thead>\n",
       "  <tbody>\n",
       "    <tr>\n",
       "      <th>111</th>\n",
       "      <td>Janata Dal (Secular)</td>\n",
       "      <td>122392</td>\n",
       "    </tr>\n",
       "  </tbody>\n",
       "</table>\n",
       "</div>"
      ],
      "text/plain": [
       "           Trailing Party  Margin\n",
       "111  Janata Dal (Secular)  122392"
      ]
     },
     "execution_count": 23,
     "metadata": {},
     "output_type": "execute_result"
    }
   ],
   "source": [
    "highest_margin_by_trailing_party = df[['Trailing Party', 'Margin']].sort_values(by='Margin', ascending=False).head(1)\n",
    "highest_margin_by_trailing_party"
   ]
  },
  {
   "cell_type": "code",
   "execution_count": 24,
   "id": "ed9d8f6b",
   "metadata": {
    "execution": {
     "iopub.execute_input": "2023-09-07T17:59:46.154265Z",
     "iopub.status.busy": "2023-09-07T17:59:46.153474Z",
     "iopub.status.idle": "2023-09-07T17:59:46.165682Z",
     "shell.execute_reply": "2023-09-07T17:59:46.164201Z"
    },
    "papermill": {
     "duration": 0.054921,
     "end_time": "2023-09-07T17:59:46.168425",
     "exception": false,
     "start_time": "2023-09-07T17:59:46.113504",
     "status": "completed"
    },
    "tags": []
   },
   "outputs": [
    {
     "data": {
      "text/html": [
       "<div>\n",
       "<style scoped>\n",
       "    .dataframe tbody tr th:only-of-type {\n",
       "        vertical-align: middle;\n",
       "    }\n",
       "\n",
       "    .dataframe tbody tr th {\n",
       "        vertical-align: top;\n",
       "    }\n",
       "\n",
       "    .dataframe thead th {\n",
       "        text-align: right;\n",
       "    }\n",
       "</style>\n",
       "<table border=\"1\" class=\"dataframe\">\n",
       "  <thead>\n",
       "    <tr style=\"text-align: right;\">\n",
       "      <th></th>\n",
       "      <th>Trailing Party</th>\n",
       "      <th>Margin</th>\n",
       "    </tr>\n",
       "  </thead>\n",
       "  <tbody>\n",
       "    <tr>\n",
       "      <th>64</th>\n",
       "      <td>Bharatiya Janata Party</td>\n",
       "      <td>105</td>\n",
       "    </tr>\n",
       "  </tbody>\n",
       "</table>\n",
       "</div>"
      ],
      "text/plain": [
       "            Trailing Party  Margin\n",
       "64  Bharatiya Janata Party     105"
      ]
     },
     "execution_count": 24,
     "metadata": {},
     "output_type": "execute_result"
    }
   ],
   "source": [
    "lowest_margin_by_trailing_party = df[['Trailing Party', 'Margin']].sort_values(by='Margin', ascending=True).head(1)\n",
    "lowest_margin_by_trailing_party"
   ]
  },
  {
   "cell_type": "markdown",
   "id": "0a82cf84",
   "metadata": {
    "papermill": {
     "duration": 0.040448,
     "end_time": "2023-09-07T17:59:46.248940",
     "exception": false,
     "start_time": "2023-09-07T17:59:46.208492",
     "status": "completed"
    },
    "tags": []
   },
   "source": [
    "# Partywise Analysis"
   ]
  },
  {
   "cell_type": "markdown",
   "id": "b21d4ab3",
   "metadata": {
    "papermill": {
     "duration": 0.040508,
     "end_time": "2023-09-07T17:59:46.328080",
     "exception": false,
     "start_time": "2023-09-07T17:59:46.287572",
     "status": "completed"
    },
    "tags": []
   },
   "source": [
    "# 1. Indian National Congress"
   ]
  },
  {
   "cell_type": "markdown",
   "id": "cd533b01",
   "metadata": {
    "papermill": {
     "duration": 0.038508,
     "end_time": "2023-09-07T17:59:46.406459",
     "exception": false,
     "start_time": "2023-09-07T17:59:46.367951",
     "status": "completed"
    },
    "tags": []
   },
   "source": [
    "# a) . INC winning by highest and lowest Margin"
   ]
  },
  {
   "cell_type": "code",
   "execution_count": 25,
   "id": "2d7d3285",
   "metadata": {
    "execution": {
     "iopub.execute_input": "2023-09-07T17:59:46.507534Z",
     "iopub.status.busy": "2023-09-07T17:59:46.505891Z",
     "iopub.status.idle": "2023-09-07T17:59:46.518095Z",
     "shell.execute_reply": "2023-09-07T17:59:46.516666Z"
    },
    "papermill": {
     "duration": 0.069104,
     "end_time": "2023-09-07T17:59:46.521463",
     "exception": false,
     "start_time": "2023-09-07T17:59:46.452359",
     "status": "completed"
    },
    "tags": []
   },
   "outputs": [
    {
     "name": "stdout",
     "output_type": "stream",
     "text": [
      "Maximum margin won by INC: 122392\n",
      "Minimum margin won by INC: 105\n"
     ]
    }
   ],
   "source": [
    "df_INC = df[df['Leading Party']=='Indian National Congress']\n",
    "max_margin = df_INC['Margin'].max()\n",
    "print(f\"Maximum margin won by INC: {max_margin}\")\n",
    "min_margin = df_INC['Margin'].min()\n",
    "print(f\"Minimum margin won by INC: {min_margin}\")"
   ]
  },
  {
   "cell_type": "markdown",
   "id": "cb0cb467",
   "metadata": {
    "papermill": {
     "duration": 0.039023,
     "end_time": "2023-09-07T17:59:46.600650",
     "exception": false,
     "start_time": "2023-09-07T17:59:46.561627",
     "status": "completed"
    },
    "tags": []
   },
   "source": [
    "# b). Get all Leading candidate with Constituency from Indian National Congress "
   ]
  },
  {
   "cell_type": "code",
   "execution_count": 26,
   "id": "65beaf0c",
   "metadata": {
    "execution": {
     "iopub.execute_input": "2023-09-07T17:59:46.682393Z",
     "iopub.status.busy": "2023-09-07T17:59:46.680909Z",
     "iopub.status.idle": "2023-09-07T17:59:46.714428Z",
     "shell.execute_reply": "2023-09-07T17:59:46.713090Z"
    },
    "papermill": {
     "duration": 0.078185,
     "end_time": "2023-09-07T17:59:46.718523",
     "exception": false,
     "start_time": "2023-09-07T17:59:46.640338",
     "status": "completed"
    },
    "tags": []
   },
   "outputs": [
    {
     "name": "stdout",
     "output_type": "stream",
     "text": [
      "Indian National Congress\n",
      "Constituency: Afzalpur\n",
      "winner :  M.Y.PATIL\n",
      "Constituency: Aland\n",
      "winner :  Bhojaraj\n",
      "Constituency: Anekal\n",
      "winner :  B. SHIVANNA\n",
      "Constituency: Arsikere\n",
      "winner :  K.M. SHIVALINGE GOWDA\n",
      "Constituency: Athani\n",
      "winner :  LAXMAN. SANGAPPA. SAVADI\n",
      "Constituency: B.T.M.Layout\n",
      "winner :  RAMALINGA REDDY\n",
      "Constituency: Babaleshwar\n",
      "winner :  M B PATIL.\n",
      "Constituency: Badami\n",
      "winner :  B.B.CHIMMANAKATTI\n",
      "Constituency: Bagalkot\n",
      "winner :  METI. HULLAPPA. YAMANAPPA\n",
      "Constituency: Bagepalli\n",
      "winner :  S.N. SUBBAREDDY (CHINNAKAYALAPALLI)\n",
      "Constituency: Bailhongal\n",
      "winner :  KOUJALAGI. MAHANTESH. SHIVANAND.\n",
      "Constituency: Bangarapet\n",
      "winner :  S.N. NARAYANASWAMY. K.M\n",
      "Constituency: Basavana Bagevadi\n",
      "winner :  SHIVANAND PATIL\n",
      "Constituency: Belgaum Rural\n",
      "winner :  Laxmi R. Hebbalkar\n",
      "Constituency: Belgaum Uttar\n",
      "winner :  Asif (Raju) Sait\n",
      "Constituency: Bellary\n",
      "winner :  B Nagendra\n",
      "Constituency: Bellary City\n",
      "winner :  NARA BHARATH REDDY\n",
      "Constituency: Bhadravati\n",
      "winner :  B.K. SANAGAMESHWARA\n",
      "Constituency: Bhalki\n",
      "winner :  ESHWAR KHANDRE\n",
      "Constituency: Bhatkal\n",
      "winner :  MANKAL VAIDYA\n",
      "Constituency: Bidar\n",
      "winner :  Rahim Khan\n",
      "Constituency: Bilgi\n",
      "winner :  J. T. PATIL.\n",
      "Constituency: Byadgi\n",
      "winner :  Basavaraj Neelappa Shivannanavar\n",
      "Constituency: Byatarayanapura\n",
      "winner :  KRISHNA BYREGOWDA\n",
      "Constituency: Challakere\n",
      "winner :  T. RAGHUMURTHY\n",
      "Constituency: Chamaraja\n",
      "winner :  K. HARISH GOWDA\n",
      "Constituency: Chamarajanagar\n",
      "winner :  C. Puttarangashetty\n",
      "Constituency: Chamrajpet\n",
      "winner :  B.Z.ZAMEER AHMED KHAN\n",
      "Constituency: Channagiri\n",
      "winner :  BASAVARAJU V SHIVAGANGA\n",
      "Constituency: Chikkaballapur\n",
      "winner :  PRADEEP ESHWAR\n",
      "Constituency: Chikkodi-Sadalga\n",
      "winner :  GANESH PRAKASH HUKKERI\n",
      "Constituency: Chikmagalur\n",
      "winner :  H. D. THAMMAIAH\n",
      "Constituency: Chintamani\n",
      "winner :  DR. M.C. SUDHAKAR\n",
      "Constituency: Chitradurga\n",
      "winner :  K.C.VEERENDRA PUPPY\n",
      "Constituency: Chittapur\n",
      "winner :  PRIYANK KHARGE\n",
      "Constituency: Davanagere North\n",
      "winner :  S.S.MALLIKARJUN.\n",
      "Constituency: Davanagere South\n",
      "winner :  SHAMANUR SHIVASHANKARAPPA\n",
      "Constituency: Devanahalli\n",
      "winner :  K.H.MUNIYAPPA\n",
      "Constituency: Dharwad\n",
      "winner :  VINAY KULKARNI\n",
      "Constituency: Gadag\n",
      "winner :  H. K. PATIL\n",
      "Constituency: Gandhi Nagar\n",
      "winner :  DINESH GUNDU RAO\n",
      "Constituency: Govindraj Nagar\n",
      "winner :  PRIYAKRISHNA\n",
      "Constituency: Gubbi\n",
      "winner :  S R SRINIVAS (VASU)\n",
      "Constituency: Gulbarga Dakshin\n",
      "winner :  ALLAMPRABHU PATIL\n",
      "Constituency: Gulbarga Uttar\n",
      "winner :  KANEEZ FATIMA\n",
      "Constituency: Gundlupet\n",
      "winner :  H.M.Ganesh Prasad\n",
      "Constituency: Haliyal\n",
      "winner :  DESHPANDE RAGHUNATH\n",
      "Constituency: Hangal\n",
      "winner :  MANE SRINIVAS\n",
      "Constituency: Haveri\n",
      "winner :  RUDRAPPA MANAPPA LAMANI\n",
      "Constituency: Hebbal\n",
      "winner :  Suresha B S\n",
      "Constituency: Heggadadevankote\n",
      "winner :  ANIL CHIKKAMADHU\n",
      "Constituency: Hirekerur\n",
      "winner :  Ujaneshwar Basavannappa Banakar\n",
      "Constituency: Hiriyur\n",
      "winner :  D.SUDHAKAR\n",
      "Constituency: Honnali\n",
      "winner :  SHANTHANA GOWDA.D.G.\n",
      "Constituency: Hosadurga\n",
      "winner :  B. G. GOVINDAPPA\n",
      "Constituency: Hosakote\n",
      "winner :  SHARATH KUMAR BACHEGOWDA\n",
      "Constituency: Hubli-Dharwad-East\n",
      "winner :  ABBAYYA PRASAD\n",
      "Constituency: Hungund\n",
      "winner :  KASHAPPANAVARA VIJAYANAND SHIVASHANKRAPPA\n",
      "Constituency: Indi\n",
      "winner :  YASHAVANTARAYGOUD. VITTALAGOUD. PATIL\n",
      "Constituency: Jagalur\n",
      "winner :  B.DEVENDRAPPA\n",
      "Constituency: Jayanagar\n",
      "winner :  Sowmya Reddy\n",
      "Constituency: Jevargi\n",
      "winner :  AJAY SINGH\n",
      "Constituency: Kadur\n",
      "winner :  ANAND. K.S\n",
      "Constituency: Kagwad\n",
      "winner :  BHARAMGOUDA ALAGOUDA KAGE\n",
      "Constituency: Kalghatgi\n",
      "winner :  SANTOSH.S.LAD\n",
      "Constituency: Kampli\n",
      "winner :  J N GANESH\n",
      "Constituency: Kanakagiri\n",
      "winner :  TANGADAGI SHIVARAJ SANGAPPA\n",
      "Constituency: Kanakapura\n",
      "winner :  D K SHIVAKUMAR\n",
      "Constituency: Karwar\n",
      "winner :  SATISH KRISHNA SAIL\n",
      "Constituency: Kittur\n",
      "winner :  BABASAHEB PATIL\n",
      "Constituency: Kolar\n",
      "winner :  KOTHUR.G. MANJUNATHA\n",
      "Constituency: Kolar Gold Field\n",
      "winner :  ROOPA KALA. M\n",
      "Constituency: Kollegal\n",
      "winner :  A.R.Krishnamurthy\n",
      "Constituency: Koppal\n",
      "winner :  K. RAGHAVENDRA BASAVARAJ HITNAL\n",
      "Constituency: Koratagere\n",
      "winner :  Dr. G. PARAMESHWARA\n",
      "Constituency: Krishnarajanagara\n",
      "winner :  RAVISHANKAR.D.\n",
      "Constituency: Kudachi\n",
      "winner :  MAHENDRA. KALLAPPA. TAMMANNAVAR\n",
      "Constituency: Kudligi\n",
      "winner :  SRINIVAS N T\n",
      "Constituency: Kunigal\n",
      "winner :  DR|| H D RANGANATH\n",
      "Constituency: Maddur\n",
      "winner :  UDAYA.K.M\n",
      "Constituency: Madhugiri\n",
      "winner :  KYATHASANDRA N. RAJANNA\n",
      "Constituency: Madikeri\n",
      "winner :  DR. MANTAR GOWDA\n",
      "Constituency: Magadi\n",
      "winner :  H. C. BALAKRISHNA\n",
      "Constituency: Malavalli\n",
      "winner :  P.M.Narendraswamy\n",
      "Constituency: Malur\n",
      "winner :  K.Y.NANJEGOWDA\n",
      "Constituency: Mandya\n",
      "winner :  RAVIKUMAR GOWDA (GANIGA)\n",
      "Constituency: Mangalore\n",
      "winner :  U.T. KHADER FAREED\n",
      "Constituency: Manvi\n",
      "winner :  G Hampayya Nayak\n",
      "Constituency: Maski\n",
      "winner :  BASAN GOUDA TURVIHAL\n",
      "Constituency: Mayakonda\n",
      "winner :  K. S. BASAVANTHAPPA\n",
      "Constituency: Molakalmuru\n",
      "winner :  N.Y.GOPALAKRISHNA\n",
      "Constituency: Muddebihal\n",
      "winner :  APPAJI. ALIYAS. CHANNABASAVARAJ. S/O SHANKARAO. NADAGOUDA.\n",
      "Constituency: Mudhol\n",
      "winner :  TIMMAPUR. RAMAPPA. BALAPPA.\n",
      "Constituency: Mudigere\n",
      "winner :  NAYANA MOTAMMA\n",
      "Constituency: Nagamangala\n",
      "winner :  N. CHALUVARAYASWAMY\n",
      "Constituency: Nagthan\n",
      "winner :  KATAKADHOND VITTHAL DONDIBA\n",
      "Constituency: Nanjangud\n",
      "winner :  DARSHAN DHRUVANARAYANA\n",
      "Constituency: Narasimharaja\n",
      "winner :  TANVEER SAIT\n",
      "Constituency: Navalgund\n",
      "winner :  NINGARADDI HANAMARADDI KONARADDI\n",
      "Constituency: Nelamangala\n",
      "winner :  SHREENIVASAIAH N\n",
      "Constituency: Pavagada\n",
      "winner :  H.V.VENKATESH\n",
      "Constituency: Periyapatna\n",
      "winner :  K. VENKATESH\n",
      "Constituency: Pulakeshinagar\n",
      "winner :  A C SRINIVASA\n",
      "Constituency: Puttur\n",
      "winner :  ASHOK KUMAR RAI\n",
      "Constituency: Raichur Rural\n",
      "winner :  Basanagouda Daddal\n",
      "Constituency: Ramanagaram\n",
      "winner :  H. A. IQBAL HUSSAIN\n",
      "Constituency: Ramdurg\n",
      "winner :  ASHOK MAHADEVAPPA PATTAN\n",
      "Constituency: Ranibennur\n",
      "winner :  PRAKASH KOLIWAD\n",
      "Constituency: Ron\n",
      "winner :  GURUPADAGOUDA SANGANAGOUDA PATIL\n",
      "Constituency: Sagar\n",
      "winner :  GOPALA KRISHNA BELURU\n",
      "Constituency: Sandur\n",
      "winner :  E. TUKARAM\n",
      "Constituency: Sarvagnanagar\n",
      "winner :  KELACHANDRA JOSEPH GEORGE\n",
      "Constituency: Saundatti Yellamma\n",
      "winner :  VISHWAS VASANT VAIDYA\n",
      "Constituency: Sedam\n",
      "winner :  DR. SHARANPRAKASH RUDRAPPA PATIL\n",
      "Constituency: Shahapur\n",
      "winner :  SHARANABASAPPA DARSHANAPUR\n",
      "Constituency: Shanti Nagar\n",
      "winner :  N. A. HARIS\n",
      "Constituency: Shivajinagar\n",
      "winner :  RIZWAN ARSHAD\n",
      "Constituency: Shorapur\n",
      "winner :  RAJA VENKATAPPA NAIK\n",
      "Constituency: Shrirangapattana\n",
      "winner :  A.B. RAMESHA BANDISIDDEGOWDA\n",
      "Constituency: Sindgi\n",
      "winner :  ASHOK MALLAPPA MANAGULI\n",
      "Constituency: Sindhanur\n",
      "winner :  HAMPANAGOUDA BADARLI\n",
      "Constituency: Sira\n",
      "winner :  T B Jayachandra\n",
      "Constituency: Sirsi\n",
      "winner :  BHIMANNA T. NAIK\n",
      "Constituency: Siruguppa\n",
      "winner :  B. M. NAGARAJA\n",
      "Constituency: Sorab\n",
      "winner :  MADHU BANGARAPPA\n",
      "Constituency: Sringeri\n",
      "winner :  T.D.RAJEGOWDA\n",
      "Constituency: T.Narasipur\n",
      "winner :  DR. H C MAHADEVAPPA\n",
      "Constituency: Tarikere\n",
      "winner :  G.H. SRINIVASA\n",
      "Constituency: Tiptur\n",
      "winner :  K Shadakshari\n",
      "Constituency: Varuna\n",
      "winner :  SIDDARAMAIAH\n",
      "Constituency: Vijay Nagar\n",
      "winner :  M.KRISHNAPPA\n",
      "Constituency: Vijayanagara\n",
      "winner :  H.R.GAVIYAPPA\n",
      "Constituency: Virajpet\n",
      "winner :  A.S.PONNANNA\n",
      "Constituency: Yadgir\n",
      "winner :  CHANNAREDDY PATIL TUNNUR\n",
      "Constituency: Yelburga\n",
      "winner :  BASAVARAJ RAYAREDDI\n",
      "Constituency: Yemkanmardi\n",
      "winner :  SATISH LAXMANARAO JARKIHOLI\n",
      "Total No. of Leading candidates from INC : 136\n"
     ]
    }
   ],
   "source": [
    "df_INC = df[df['Leading Party'] == 'Indian National Congress']\n",
    "\n",
    "# Group the data by 'Constituency' and collect leading candidates\n",
    "constituency_candidates = df_INC.groupby('Constituency')['Leading Candidate'].apply(lambda x: x.tolist()).reset_index()\n",
    "\n",
    "c=0\n",
    "print(\"Indian National Congress\")\n",
    "# Print all the leading candidates from KRPP\n",
    "for index, row in constituency_candidates.iterrows():\n",
    "    print(f\"Constituency: {row['Constituency']}\")\n",
    "    for candidate in row['Leading Candidate']:\n",
    "        print(f\"winner :  {candidate}\")\n",
    "        c+=1\n",
    "print(\"Total No. of Leading candidates from INC :\",c)         "
   ]
  },
  {
   "cell_type": "markdown",
   "id": "7da72a40",
   "metadata": {
    "papermill": {
     "duration": 0.039659,
     "end_time": "2023-09-07T17:59:46.798461",
     "exception": false,
     "start_time": "2023-09-07T17:59:46.758802",
     "status": "completed"
    },
    "tags": []
   },
   "source": [
    "# c). Get all Trailing candidate with Constituency from Indian National Congress"
   ]
  },
  {
   "cell_type": "code",
   "execution_count": 27,
   "id": "405c0f7e",
   "metadata": {
    "execution": {
     "iopub.execute_input": "2023-09-07T17:59:46.879871Z",
     "iopub.status.busy": "2023-09-07T17:59:46.879455Z",
     "iopub.status.idle": "2023-09-07T17:59:46.901280Z",
     "shell.execute_reply": "2023-09-07T17:59:46.900077Z"
    },
    "papermill": {
     "duration": 0.066575,
     "end_time": "2023-09-07T17:59:46.905010",
     "exception": false,
     "start_time": "2023-09-07T17:59:46.838435",
     "status": "completed"
    },
    "tags": []
   },
   "outputs": [
    {
     "name": "stdout",
     "output_type": "stream",
     "text": [
      "Indian National Congress\n",
      "Constituency: Aurad\n",
      "Loser :  BHIMSAIN RAO SHINDE\n",
      "Constituency: Bangalore South\n",
      "Loser :  R K Ramesh\n",
      "Constituency: Bantval\n",
      "Loser :  B. RAMANATH RAI\n",
      "Constituency: Basavakalyan\n",
      "Loser :  VIJAY SINGH\n",
      "Constituency: Basavanagudi\n",
      "Loser :  U.B.VENKATESH\n",
      "Constituency: Belthangady\n",
      "Loser :  RAKSHITH SHIVARAM\n",
      "Constituency: Belur\n",
      "Loser :  B. SHIVARAMU\n",
      "Constituency: Bidar South\n",
      "Loser :  ASHOK KHENY\n",
      "Constituency: Bijapur City\n",
      "Loser :  ABDUL HAMEED KHAJASAB MUSHARIF\n",
      "Constituency: Bommanahalli\n",
      "Loser :  Umapathy Srinivasa Gowda\n",
      "Constituency: Byndoor\n",
      "Loser :  K. GOPAL POOJARY\n",
      "Constituency: C.V. Raman Nagar\n",
      "Loser :  ANAND KUMAR. S\n",
      "Constituency: Chamundeshwari\n",
      "Loser :  S. SIDDEGOWDA\n",
      "Constituency: Chickpet\n",
      "Loser :  R. V. DEVRAJ\n",
      "Constituency: Chincholi\n",
      "Loser :  SUBHASH V RATHOD\n",
      "Constituency: Doddaballapur\n",
      "Loser :  T.VENKATARAMANAIAH (APPAKARANAHALLI T.VENKATESH)\n",
      "Constituency: Gangawati\n",
      "Loser :  IQBAL ANSARI\n",
      "Constituency: Gauribidanur\n",
      "Loser :  N.H.SHIVASHANKARA REDDY\n",
      "Constituency: Gokak\n",
      "Loser :  KADADI MAHANTESH KALLAPPA\n",
      "Constituency: Gulbarga Rural\n",
      "Loser :  REVU NAIK BELAMAGI\n",
      "Constituency: Gurmitkal\n",
      "Loser :  BABURAO CHINCHANSOOR\n",
      "Constituency: Hadagalli\n",
      "Loser :  P.T.PARAMESHWARA NAIK\n",
      "Constituency: Hagaribommanahalli\n",
      "Loser :  L B P Bheema Naik\n",
      "Constituency: Hanur\n",
      "Loser :  R. NARENDRA\n",
      "Constituency: Harihar\n",
      "Loser :  SRINIVASA N H (NANDIGAVI)\n",
      "Constituency: Holalkere\n",
      "Loser :  H.ANJANEYA\n",
      "Constituency: Holenarasipur\n",
      "Loser :  SHREYAS M PATEL\n",
      "Constituency: Hubli-Dharwad- West\n",
      "Loser :  DEEPAK CHINCHORE\n",
      "Constituency: Hubli-Dharwad-Central\n",
      "Loser :  JAGADISH SHETTAR\n",
      "Constituency: Hukkeri\n",
      "Loser :  A.B.PATIL\n",
      "Constituency: Humnabad\n",
      "Loser :  RAJASHEKHAR BASAVARAJ PATIL\n",
      "Constituency: Hunsur\n",
      "Loser :  H.P.MANJUNATH\n",
      "Constituency: Jamkhandi\n",
      "Loser :  ANAND SIDDU NYAMAGOUDA\n",
      "Constituency: K.R.Pura\n",
      "Loser :  D K MOHAN\n",
      "Constituency: Kapu\n",
      "Loser :  VINAY KUMAR SORAKE\n",
      "Constituency: Karkal\n",
      "Loser :  UDAYA SHETTY MUNIYAL\n",
      "Constituency: Khanapur\n",
      "Loser :  Dr. Anjali Hemant Nimbalkar\n",
      "Constituency: Krishnaraja\n",
      "Loser :  M.K. SOMASHEKAR\n",
      "Constituency: Krishnarajpet\n",
      "Loser :  B.L.DEVARAJA\n",
      "Constituency: Kundapura\n",
      "Loser :  DINESH HEGDE MOLAHALLI\n",
      "Constituency: Kundgol\n",
      "Loser :  KUSUMAVATHI CHANNABASAPPA SHIVALLI\n",
      "Constituency: Kushtagi\n",
      "Loser :  AMAREGOUDA LINGANAGOUDA PATIL BAYYAPUR\n",
      "Constituency: Lingsugur\n",
      "Loser :  D.S.HULAGERI\n",
      "Constituency: Mahadevapura\n",
      "Loser :  H NAGESH\n",
      "Constituency: Mahalakshmi Layout\n",
      "Loser :  KESHAVAMURTHY S\n",
      "Constituency: Malleshwaram\n",
      "Loser :  ANOOP IYENGAR\n",
      "Constituency: Mangalore City North\n",
      "Loser :  INAYATH ALI\n",
      "Constituency: Mangalore City South\n",
      "Loser :  J.R.LOBO\n",
      "Constituency: Moodabidri\n",
      "Loser :  MITHUN M RAI\n",
      "Constituency: Mulbagal\n",
      "Loser :  V.ADINARAYANA\n",
      "Constituency: Nargund\n",
      "Loser :  B. R. YAVAGAL\n",
      "Constituency: Padmanaba Nagar\n",
      "Loser :  V. RAGHUNATHA NAIDU\n",
      "Constituency: Raichur\n",
      "Loser :  Mohammed Shalam\n",
      "Constituency: Rajaji Nagar\n",
      "Loser :  PUTTANNA\n",
      "Constituency: Rajarajeshwarinagar\n",
      "Loser :  KUSUMA .H\n",
      "Constituency: Shiggaon\n",
      "Loser :  PATHAN YASIRAHMEDKHAN\n",
      "Constituency: Shimoga\n",
      "Loser :  H C YOGESH\n",
      "Constituency: Shravanabelagola\n",
      "Loser :  M.A. GOPALASWAMY\n",
      "Constituency: Srinivaspur\n",
      "Loser :  K.R. RAMESH KUMAR\n",
      "Constituency: Sullia\n",
      "Loser :  G. KRISHNAPPA RAMAKUNJA.\n",
      "Constituency: Terdal\n",
      "Loser :  SIDDU.RAMAPPA.KONNUR.\n",
      "Constituency: Tirthahalli\n",
      "Loser :  KIMMANE RATNAKAR\n",
      "Constituency: Udupi\n",
      "Loser :  PRASADRAJ KANCHAN\n",
      "Constituency: Yelahanka\n",
      "Loser :  KESHAVA RAJANNA B\n",
      "Constituency: Yellapur\n",
      "Loser :  ANDALAGI VEERABHADRAGOUDA SHIVANAGOUD PATIL\n",
      "Total No. of Trailing candidates from INC : 65\n"
     ]
    }
   ],
   "source": [
    "df_INC = df[df['Trailing Party'] == 'Indian National Congress']\n",
    "\n",
    "# Group the data by 'Constituency' and collect leading candidates\n",
    "constituency_candidates = df_INC.groupby('Constituency')['Trailing Candidate'].apply(lambda x: x.tolist()).reset_index()\n",
    "\n",
    "c=0\n",
    "print(\"Indian National Congress\")\n",
    "# Print all the leading candidates from KRPP\n",
    "for index, row in constituency_candidates.iterrows():\n",
    "    print(f\"Constituency: {row['Constituency']}\")\n",
    "    for candidate in row['Trailing Candidate']:\n",
    "        print(f\"Loser :  {candidate}\")\n",
    "        c=c+1\n",
    "print(\"Total No. of Trailing candidates from INC :\",c) "
   ]
  },
  {
   "cell_type": "markdown",
   "id": "f003d1a8",
   "metadata": {
    "papermill": {
     "duration": 0.039047,
     "end_time": "2023-09-07T17:59:46.983547",
     "exception": false,
     "start_time": "2023-09-07T17:59:46.944500",
     "status": "completed"
    },
    "tags": []
   },
   "source": [
    "# d). Get all Leading candidate from Indian National Congress"
   ]
  },
  {
   "cell_type": "code",
   "execution_count": 28,
   "id": "31d3ad90",
   "metadata": {
    "execution": {
     "iopub.execute_input": "2023-09-07T17:59:47.068080Z",
     "iopub.status.busy": "2023-09-07T17:59:47.066735Z",
     "iopub.status.idle": "2023-09-07T17:59:47.077199Z",
     "shell.execute_reply": "2023-09-07T17:59:47.076066Z"
    },
    "papermill": {
     "duration": 0.056335,
     "end_time": "2023-09-07T17:59:47.080648",
     "exception": false,
     "start_time": "2023-09-07T17:59:47.024313",
     "status": "completed"
    },
    "tags": []
   },
   "outputs": [
    {
     "name": "stdout",
     "output_type": "stream",
     "text": [
      "Winnig candidate from INC :\n",
      "M.Y.PATIL\n",
      "Bhojaraj\n",
      "B. SHIVANNA\n",
      "K.M. SHIVALINGE GOWDA\n",
      "LAXMAN. SANGAPPA. SAVADI\n",
      "RAMALINGA REDDY\n",
      "M B PATIL.\n",
      "B.B.CHIMMANAKATTI\n",
      "METI. HULLAPPA. YAMANAPPA\n",
      "S.N. SUBBAREDDY (CHINNAKAYALAPALLI)\n",
      "KOUJALAGI. MAHANTESH. SHIVANAND.\n",
      "S.N. NARAYANASWAMY. K.M\n",
      "SHIVANAND PATIL\n",
      "Laxmi R. Hebbalkar\n",
      "Asif (Raju) Sait\n",
      "B Nagendra\n",
      "NARA BHARATH REDDY\n",
      "B.K. SANAGAMESHWARA\n",
      "ESHWAR KHANDRE\n",
      "MANKAL VAIDYA\n",
      "Rahim Khan\n",
      "J. T. PATIL.\n",
      "Basavaraj Neelappa Shivannanavar\n",
      "KRISHNA BYREGOWDA\n",
      "T. RAGHUMURTHY\n",
      "K. HARISH GOWDA\n",
      "C. Puttarangashetty\n",
      "B.Z.ZAMEER AHMED KHAN\n",
      "BASAVARAJU V SHIVAGANGA\n",
      "PRADEEP ESHWAR\n",
      "GANESH PRAKASH HUKKERI\n",
      "H. D. THAMMAIAH\n",
      "DR. M.C. SUDHAKAR\n",
      "K.C.VEERENDRA PUPPY\n",
      "PRIYANK KHARGE\n",
      "S.S.MALLIKARJUN.\n",
      "SHAMANUR SHIVASHANKARAPPA\n",
      "K.H.MUNIYAPPA\n",
      "VINAY KULKARNI\n",
      "H. K. PATIL\n",
      "DINESH GUNDU RAO\n",
      "PRIYAKRISHNA\n",
      "S R SRINIVAS (VASU)\n",
      "ALLAMPRABHU PATIL\n",
      "KANEEZ FATIMA\n",
      "H.M.Ganesh Prasad\n",
      "DESHPANDE RAGHUNATH\n",
      "MANE SRINIVAS\n",
      "RUDRAPPA MANAPPA LAMANI\n",
      "Suresha B S\n",
      "ANIL CHIKKAMADHU\n",
      "Ujaneshwar Basavannappa Banakar\n",
      "D.SUDHAKAR\n",
      "SHANTHANA GOWDA.D.G.\n",
      "B. G. GOVINDAPPA\n",
      "SHARATH KUMAR BACHEGOWDA\n",
      "ABBAYYA PRASAD\n",
      "KASHAPPANAVARA VIJAYANAND SHIVASHANKRAPPA\n",
      "YASHAVANTARAYGOUD. VITTALAGOUD. PATIL\n",
      "B.DEVENDRAPPA\n",
      "Sowmya Reddy\n",
      "AJAY SINGH\n",
      "ANAND. K.S\n",
      "BHARAMGOUDA ALAGOUDA KAGE\n",
      "SANTOSH.S.LAD\n",
      "J N GANESH\n",
      "TANGADAGI SHIVARAJ SANGAPPA\n",
      "D K SHIVAKUMAR\n",
      "SATISH KRISHNA SAIL\n",
      "BABASAHEB PATIL\n",
      "KOTHUR.G. MANJUNATHA\n",
      "ROOPA KALA. M\n",
      "A.R.Krishnamurthy\n",
      "K. RAGHAVENDRA BASAVARAJ HITNAL\n",
      "Dr. G. PARAMESHWARA\n",
      "RAVISHANKAR.D.\n",
      "MAHENDRA. KALLAPPA. TAMMANNAVAR\n",
      "SRINIVAS N T\n",
      "DR|| H D RANGANATH\n",
      "UDAYA.K.M\n",
      "KYATHASANDRA N. RAJANNA\n",
      "DR. MANTAR GOWDA\n",
      "H. C. BALAKRISHNA\n",
      "P.M.Narendraswamy\n",
      "K.Y.NANJEGOWDA\n",
      "RAVIKUMAR GOWDA (GANIGA)\n",
      "U.T. KHADER FAREED\n",
      "G Hampayya Nayak\n",
      "BASAN GOUDA TURVIHAL\n",
      "K. S. BASAVANTHAPPA\n",
      "N.Y.GOPALAKRISHNA\n",
      "APPAJI. ALIYAS. CHANNABASAVARAJ. S/O SHANKARAO. NADAGOUDA.\n",
      "TIMMAPUR. RAMAPPA. BALAPPA.\n",
      "NAYANA MOTAMMA\n",
      "N. CHALUVARAYASWAMY\n",
      "KATAKADHOND VITTHAL DONDIBA\n",
      "DARSHAN DHRUVANARAYANA\n",
      "TANVEER SAIT\n",
      "NINGARADDI HANAMARADDI KONARADDI\n",
      "SHREENIVASAIAH N\n",
      "H.V.VENKATESH\n",
      "K. VENKATESH\n",
      "A C SRINIVASA\n",
      "ASHOK KUMAR RAI\n",
      "Basanagouda Daddal\n",
      "H. A. IQBAL HUSSAIN\n",
      "ASHOK MAHADEVAPPA PATTAN\n",
      "PRAKASH KOLIWAD\n",
      "GURUPADAGOUDA SANGANAGOUDA PATIL\n",
      "GOPALA KRISHNA BELURU\n",
      "E. TUKARAM\n",
      "KELACHANDRA JOSEPH GEORGE\n",
      "VISHWAS VASANT VAIDYA\n",
      "DR. SHARANPRAKASH RUDRAPPA PATIL\n",
      "SHARANABASAPPA DARSHANAPUR\n",
      "N. A. HARIS\n",
      "RIZWAN ARSHAD\n",
      "RAJA VENKATAPPA NAIK\n",
      "ASHOK MALLAPPA MANAGULI\n",
      "HAMPANAGOUDA BADARLI\n",
      "T B Jayachandra\n",
      "BHIMANNA T. NAIK\n",
      "B. M. NAGARAJA\n",
      "MADHU BANGARAPPA\n",
      "T.D.RAJEGOWDA\n",
      "A.B. RAMESHA BANDISIDDEGOWDA\n",
      "DR. H C MAHADEVAPPA\n",
      "G.H. SRINIVASA\n",
      "K Shadakshari\n",
      "SIDDARAMAIAH\n",
      "M.KRISHNAPPA\n",
      "H.R.GAVIYAPPA\n",
      "A.S.PONNANNA\n",
      "CHANNAREDDY PATIL TUNNUR\n",
      "BASAVARAJ RAYAREDDI\n",
      "SATISH LAXMANARAO JARKIHOLI\n",
      "Total winnig candidate from Indian National Congress : 136\n"
     ]
    }
   ],
   "source": [
    "df_INC = df[df['Leading Party']=='Indian National Congress']\n",
    "x = df_INC['Leading Candidate']\n",
    "c = 0\n",
    "print('Winnig candidate from INC :')\n",
    "for candidate in x:\n",
    "    c=c+1     \n",
    "    print(candidate)\n",
    "print(\"Total winnig candidate from Indian National Congress :\",c)"
   ]
  },
  {
   "cell_type": "markdown",
   "id": "558e9cce",
   "metadata": {
    "papermill": {
     "duration": 0.041087,
     "end_time": "2023-09-07T17:59:47.163728",
     "exception": false,
     "start_time": "2023-09-07T17:59:47.122641",
     "status": "completed"
    },
    "tags": []
   },
   "source": [
    "# 2. Bharatiya Janata Party"
   ]
  },
  {
   "cell_type": "markdown",
   "id": "3f6e29f3",
   "metadata": {
    "papermill": {
     "duration": 0.040456,
     "end_time": "2023-09-07T17:59:47.244736",
     "exception": false,
     "start_time": "2023-09-07T17:59:47.204280",
     "status": "completed"
    },
    "tags": []
   },
   "source": [
    "# a) . BJP winning by highest and lowest Margin"
   ]
  },
  {
   "cell_type": "code",
   "execution_count": 29,
   "id": "7d7f4ecd",
   "metadata": {
    "execution": {
     "iopub.execute_input": "2023-09-07T17:59:47.330226Z",
     "iopub.status.busy": "2023-09-07T17:59:47.329425Z",
     "iopub.status.idle": "2023-09-07T17:59:47.338275Z",
     "shell.execute_reply": "2023-09-07T17:59:47.336778Z"
    },
    "papermill": {
     "duration": 0.054407,
     "end_time": "2023-09-07T17:59:47.341121",
     "exception": false,
     "start_time": "2023-09-07T17:59:47.286714",
     "status": "completed"
    },
    "tags": []
   },
   "outputs": [
    {
     "name": "stdout",
     "output_type": "stream",
     "text": [
      "Maximum margin won by BJP: 71540\n",
      "Minimum margin won by BJP: 676\n"
     ]
    }
   ],
   "source": [
    "df_bjp = df[df['Leading Party']=='Bharatiya Janata Party']\n",
    "max_margin = df_bjp['Margin'].max()\n",
    "print(f\"Maximum margin won by BJP: {max_margin}\")\n",
    "min_margin = df_bjp['Margin'].min()\n",
    "print(f\"Minimum margin won by BJP: {min_margin}\")"
   ]
  },
  {
   "cell_type": "markdown",
   "id": "f10a0c5c",
   "metadata": {
    "papermill": {
     "duration": 0.040924,
     "end_time": "2023-09-07T17:59:47.424383",
     "exception": false,
     "start_time": "2023-09-07T17:59:47.383459",
     "status": "completed"
    },
    "tags": []
   },
   "source": [
    "# b). Get all Leading candidate with Constituency from Bharatiya Janata Party"
   ]
  },
  {
   "cell_type": "code",
   "execution_count": 30,
   "id": "6ea10d5c",
   "metadata": {
    "execution": {
     "iopub.execute_input": "2023-09-07T17:59:47.510798Z",
     "iopub.status.busy": "2023-09-07T17:59:47.509163Z",
     "iopub.status.idle": "2023-09-07T17:59:47.533931Z",
     "shell.execute_reply": "2023-09-07T17:59:47.531036Z"
    },
    "papermill": {
     "duration": 0.072285,
     "end_time": "2023-09-07T17:59:47.536836",
     "exception": false,
     "start_time": "2023-09-07T17:59:47.464551",
     "status": "completed"
    },
    "tags": []
   },
   "outputs": [
    {
     "name": "stdout",
     "output_type": "stream",
     "text": [
      "Bharatiya Janata Party\n",
      "Constituency: Arabhavi\n",
      "winner :  BALACHANDRA LAXMANRAO JARKIHOLI\n",
      "Constituency: Aurad\n",
      "winner :  PRABHU B CHAVAN\n",
      "Constituency: Bangalore South\n",
      "winner :  M Krishnappa\n",
      "Constituency: Bantval\n",
      "winner :  RAJESH NAIK U\n",
      "Constituency: Basavakalyan\n",
      "winner :  SHARANU SALAGAR\n",
      "Constituency: Basavanagudi\n",
      "winner :  RAVI SUBRAMANYA L.A.\n",
      "Constituency: Belgaum Dakshin\n",
      "winner :  ABHAY PATIL\n",
      "Constituency: Belthangady\n",
      "winner :  HARISH POONJA\n",
      "Constituency: Belur\n",
      "winner :  H.K. SURESH (HULLALLI SURESH)\n",
      "Constituency: Bidar South\n",
      "winner :  DR. SHAILENDRA BELDALE\n",
      "Constituency: Bijapur City\n",
      "winner :  BASANAGOUDA R PATIL (YATNAL)\n",
      "Constituency: Bommanahalli\n",
      "winner :  SATHISH REDDY .M\n",
      "Constituency: Byndoor\n",
      "winner :  GURURAJ SHETTY GANTIHOLE\n",
      "Constituency: C.V. Raman Nagar\n",
      "winner :  S. RAGHU\n",
      "Constituency: Chickpet\n",
      "winner :  UDAY B. GARUDACHAR\n",
      "Constituency: Chincholi\n",
      "winner :  AVINASH UMESH JADHAV\n",
      "Constituency: Dasarahalli\n",
      "winner :  S. MUNIRAJU\n",
      "Constituency: Doddaballapur\n",
      "winner :  DHEERAJ MUNIRAJ\n",
      "Constituency: Gokak\n",
      "winner :  JARKIHOLI RAMESH LAXMANRAO\n",
      "Constituency: Gulbarga Rural\n",
      "winner :  BASAWARAJ MATTIMUDU\n",
      "Constituency: Hadagalli\n",
      "winner :  KRISHNA NAYAKA.\n",
      "Constituency: Harihar\n",
      "winner :  B P HARISH\n",
      "Constituency: Holalkere\n",
      "winner :  M.CHANDRAPPA\n",
      "Constituency: Hubli-Dharwad- West\n",
      "winner :  ARVIND BELLAD\n",
      "Constituency: Hubli-Dharwad-Central\n",
      "winner :  MAHESH TENGINAKAI\n",
      "Constituency: Hukkeri\n",
      "winner :  KATTI NIKHIL UMESH\n",
      "Constituency: Humnabad\n",
      "winner :  SIDDU PATIL\n",
      "Constituency: Jamkhandi\n",
      "winner :  JAGADEESH SHIVAYYA GUDAGUNTI\n",
      "Constituency: K.R.Pura\n",
      "winner :  B. A. BASAVARAJA\n",
      "Constituency: Kapu\n",
      "winner :  GURME SURESH SHETTY\n",
      "Constituency: Karkal\n",
      "winner :  V SUNILL KUMAR\n",
      "Constituency: Khanapur\n",
      "winner :  Vithal Somanna Halagekar\n",
      "Constituency: Krishnaraja\n",
      "winner :  T.S. SRIVATHSA\n",
      "Constituency: Kumta\n",
      "winner :  DINAKAR KESHAV SHETTY\n",
      "Constituency: Kundapura\n",
      "winner :  A KIRAN KUMAR KODGI\n",
      "Constituency: Kundgol\n",
      "winner :  M R PATIL\n",
      "Constituency: Kushtagi\n",
      "winner :  DODDANAGOUDA HANAMAGOUDA PATIL\n",
      "Constituency: Lingsugur\n",
      "winner :  MANAPPA D VAJJAL\n",
      "Constituency: Mahadevapura\n",
      "winner :  MANJULA S\n",
      "Constituency: Mahalakshmi Layout\n",
      "winner :  K. GOPALAIAH\n",
      "Constituency: Malleshwaram\n",
      "winner :  DR ASHWATH NARAYAN C N\n",
      "Constituency: Mangalore City North\n",
      "winner :  BHARATH SHETTY. Y.\n",
      "Constituency: Mangalore City South\n",
      "winner :  D.VEDAVYASA KAMATH\n",
      "Constituency: Moodabidri\n",
      "winner :  UMANATHA KOTIAN\n",
      "Constituency: Nargund\n",
      "winner :  C. C. PATIl\n",
      "Constituency: Nippani\n",
      "winner :  JOLLE SHASHIKALA ANNASAHEB\n",
      "Constituency: Padmanaba Nagar\n",
      "winner :  R. ASHOKA\n",
      "Constituency: Raichur\n",
      "winner :  Dr. Shivaraj Patil\n",
      "Constituency: Rajaji Nagar\n",
      "winner :  S.SURESH KUMAR\n",
      "Constituency: Rajarajeshwarinagar\n",
      "winner :  MUNIRATHNA\n",
      "Constituency: Raybag\n",
      "winner :  AIHOLE DURYODHAN MAHALINGAPPA\n",
      "Constituency: Sakleshpur\n",
      "winner :  CEMENT MANJU\n",
      "Constituency: Shiggaon\n",
      "winner :  BASAVARAJ BOMMAI\n",
      "Constituency: Shikaripura\n",
      "winner :  VIJAYENDRA YEDIYURAPPA\n",
      "Constituency: Shimoga\n",
      "winner :  CHANNABASAPPA (CHENNI)\n",
      "Constituency: Shirahatti\n",
      "winner :  DR.CHANDRU LAMANI\n",
      "Constituency: Sullia\n",
      "winner :  BHAGIRATHI MURULYA\n",
      "Constituency: Terdal\n",
      "winner :  SIDDU SAVADI\n",
      "Constituency: Tirthahalli\n",
      "winner :  ARAGA JNANENDRA\n",
      "Constituency: Tumkur City\n",
      "winner :  G B JYOTHI GANESH\n",
      "Constituency: Tumkur Rural\n",
      "winner :  B.SURESH GOWDA\n",
      "Constituency: Udupi\n",
      "winner :  YASHPAL A SUVARNA\n",
      "Constituency: Yelahanka\n",
      "winner :  S R VISHWANATH\n",
      "Constituency: Yellapur\n",
      "winner :  ARABAIL HEBBAR SHIVARAM\n",
      "Constituency: Yeshvanthapura\n",
      "winner :  S.T. SOMASHEKAR\n",
      "Total No. of Leading candidates from BJP : 65\n"
     ]
    }
   ],
   "source": [
    "df_bjp = df[df['Leading Party'] == 'Bharatiya Janata Party']\n",
    "\n",
    "# Group the data by 'Constituency' and collect leading candidates\n",
    "constituency_candidates = df_bjp.groupby('Constituency')['Leading Candidate'].apply(lambda x: x.tolist()).reset_index()\n",
    "\n",
    "c=0\n",
    "print(\"Bharatiya Janata Party\")\n",
    "# Print all the leading candidates from KRPP\n",
    "for index, row in constituency_candidates.iterrows():\n",
    "    print(f\"Constituency: {row['Constituency']}\")\n",
    "    for candidate in row['Leading Candidate']:\n",
    "        print(f\"winner :  {candidate}\")\n",
    "        c+=1\n",
    "print(\"Total No. of Leading candidates from BJP :\",c)          "
   ]
  },
  {
   "cell_type": "markdown",
   "id": "014a8cdc",
   "metadata": {
    "papermill": {
     "duration": 0.041901,
     "end_time": "2023-09-07T17:59:47.618748",
     "exception": false,
     "start_time": "2023-09-07T17:59:47.576847",
     "status": "completed"
    },
    "tags": []
   },
   "source": [
    "# c). Get all Trailing candidate with Constituency from Bharatiya Janata Party"
   ]
  },
  {
   "cell_type": "code",
   "execution_count": 31,
   "id": "7829d7fe",
   "metadata": {
    "execution": {
     "iopub.execute_input": "2023-09-07T17:59:47.706118Z",
     "iopub.status.busy": "2023-09-07T17:59:47.705068Z",
     "iopub.status.idle": "2023-09-07T17:59:47.735897Z",
     "shell.execute_reply": "2023-09-07T17:59:47.732958Z"
    },
    "papermill": {
     "duration": 0.0756,
     "end_time": "2023-09-07T17:59:47.738732",
     "exception": false,
     "start_time": "2023-09-07T17:59:47.663132",
     "status": "completed"
    },
    "tags": []
   },
   "outputs": [
    {
     "name": "stdout",
     "output_type": "stream",
     "text": [
      "Bharatiya Janata Party\n",
      "Constituency: Aland\n",
      "Loser :  Subhash Guttedar\n",
      "Constituency: Anekal\n",
      "Loser :  SRINIVAS. C. HULLAHALLI\n",
      "Constituency: Athani\n",
      "Loser :  MAHESH. IRANGOUDA. KUMATHALLI.\n",
      "Constituency: B.T.M.Layout\n",
      "Loser :  K.R.SRIDHARA\n",
      "Constituency: Babaleshwar\n",
      "Loser :  VIJAYAKUMAR (VIJAYAGOUDA) PATIL\n",
      "Constituency: Badami\n",
      "Loser :  SHANTHAGOUDA THIRTHGOUDA PATIL.\n",
      "Constituency: Bagalkot\n",
      "Loser :  VEERABHADRAYYA (VEERANNA) CHARANTIMATH\n",
      "Constituency: Bagepalli\n",
      "Loser :  C. MUNIRAJU\n",
      "Constituency: Bailhongal\n",
      "Loser :  JAGDISH CHANNAPPA METGUD\n",
      "Constituency: Basavana Bagevadi\n",
      "Loser :  BELLUBBI SANGAPPA KALLAPPA\n",
      "Constituency: Belgaum Rural\n",
      "Loser :  Nagesh Annappa Manolkar\n",
      "Constituency: Belgaum Uttar\n",
      "Loser :  DR. RAVI B. PATIL\n",
      "Constituency: Bellary\n",
      "Loser :  B Sreeramulu\n",
      "Constituency: Bhalki\n",
      "Loser :  PRAKASH KHANDRE\n",
      "Constituency: Bhatkal\n",
      "Loser :  SUNIL B. NAIK\n",
      "Constituency: Bilgi\n",
      "Loser :  NIRANI MURAGESH RUDRAPPA\n",
      "Constituency: Byadgi\n",
      "Loser :  Ballari Virupakshappa Rudrappa\n",
      "Constituency: Byatarayanapura\n",
      "Loser :  THAMMESH GOWDA H C\n",
      "Constituency: Chamaraja\n",
      "Loser :  L. NAGENDRA.\n",
      "Constituency: Chamarajanagar\n",
      "Loser :  V.Somanna\n",
      "Constituency: Chamrajpet\n",
      "Loser :  BHASKAR RAO\n",
      "Constituency: Channapatna\n",
      "Loser :  C.P. YOGESHWARA\n",
      "Constituency: Chikkaballapur\n",
      "Loser :  DR. K. SUDHAKAR\n",
      "Constituency: Chikkanayakanahalli\n",
      "Loser :  J C MADHU SWAMY\n",
      "Constituency: Chikkodi-Sadalga\n",
      "Loser :  KATTI RAMESH VISHWANATH\n",
      "Constituency: Chikmagalur\n",
      "Loser :  C. T. RAVI\n",
      "Constituency: Chitradurga\n",
      "Loser :  G.H.THIPPA REDDY\n",
      "Constituency: Chittapur\n",
      "Loser :  MANIKANTA RATHOD\n",
      "Constituency: Davanagere North\n",
      "Loser :  LOKIKERE NAGARAJ\n",
      "Constituency: Davanagere South\n",
      "Loser :  AJAY KUMAR. B.G\n",
      "Constituency: Devadurga\n",
      "Loser :  Shivanagouda\n",
      "Constituency: Devar Hippargi\n",
      "Loser :  SOMANAGOUDA B. PATIL (SASANUR)\n",
      "Constituency: Dharwad\n",
      "Loser :  AMRUT AYYAPPA DESAI\n",
      "Constituency: Gadag\n",
      "Loser :  ANIL. P. MENASINAKAI\n",
      "Constituency: Gandhi Nagar\n",
      "Loser :  SAPTHAGIRI GOWDA A R\n",
      "Constituency: Govindraj Nagar\n",
      "Loser :  K. UMESH SHETTY\n",
      "Constituency: Gubbi\n",
      "Loser :  S D DILIPKUMAR\n",
      "Constituency: Gulbarga Dakshin\n",
      "Loser :  DATTATREYA.C. PATIL REVOOR APPUGOUDA\n",
      "Constituency: Gulbarga Uttar\n",
      "Loser :  CHANDRAKANT B. PATIL (CHANDU PATIL)\n",
      "Constituency: Gundlupet\n",
      "Loser :  C.S. Niranjan Kumar\n",
      "Constituency: Haliyal\n",
      "Loser :  SUNIL HEGADE\n",
      "Constituency: Hangal\n",
      "Loser :  SHIVARAJ SAJJANAR\n",
      "Constituency: Harapanahalli\n",
      "Loser :  G Karunakara Reddy\n",
      "Constituency: Hassan\n",
      "Loser :  Preetham J. Gowda\n",
      "Constituency: Haveri\n",
      "Loser :  GAVISIDDAPPA DYAMANNAVAR\n",
      "Constituency: Hebbal\n",
      "Loser :  Jagdeesha Katta K S\n",
      "Constituency: Heggadadevankote\n",
      "Loser :  K.M. KRISHNANAYAKA\n",
      "Constituency: Hirekerur\n",
      "Loser :  Basavanagouda Patil\n",
      "Constituency: Hiriyur\n",
      "Loser :  K.POORNIMA\n",
      "Constituency: Honnali\n",
      "Loser :  M.P. RENUKACHARYA\n",
      "Constituency: Hosadurga\n",
      "Loser :  S. LINGAMURTHY\n",
      "Constituency: Hosakote\n",
      "Loser :  N NAGARAJU\n",
      "Constituency: Hubli-Dharwad-East\n",
      "Loser :  Dr. KRANTHI KIRAN\n",
      "Constituency: Hungund\n",
      "Loser :  DODDANAGOUDA G PATIL\n",
      "Constituency: Jagalur\n",
      "Loser :  S.V.RAMACHANDRA\n",
      "Constituency: Jayanagar\n",
      "Loser :  C K Ramamurthy\n",
      "Constituency: Kadur\n",
      "Loser :  BELLI PRAKASH\n",
      "Constituency: Kagwad\n",
      "Loser :  SHRIMANT BALASAHEB PATIL\n",
      "Constituency: Kalghatgi\n",
      "Loser :  CHABBI NAGARAJ\n",
      "Constituency: Kampli\n",
      "Loser :  T H SURESH BABU\n",
      "Constituency: Kanakagiri\n",
      "Loser :  BASAVARAJ DADESUGUR\n",
      "Constituency: Karwar\n",
      "Loser :  ROOPALI SANTOSH NAIK\n",
      "Constituency: Kittur\n",
      "Loser :  DODDAGOUDAR MAHANTESH BASAVANTARAY\n",
      "Constituency: Kolar Gold Field\n",
      "Loser :  ASHWINI SAMPANGI\n",
      "Constituency: Kollegal\n",
      "Loser :  N.Mahesh\n",
      "Constituency: Koppal\n",
      "Loser :  KARADI MANJULA\n",
      "Constituency: Kudachi\n",
      "Loser :  P. RAJEEV\n",
      "Constituency: Kudligi\n",
      "Loser :  LOKESH. V. NAYAKA\n",
      "Constituency: Kunigal\n",
      "Loser :  D KRISHNAKUMAR\n",
      "Constituency: Madikeri\n",
      "Loser :  APPACHU RANJAN M. P\n",
      "Constituency: Malur\n",
      "Loser :  K.S.MANJUNATHAGOWDA\n",
      "Constituency: Mangalore\n",
      "Loser :  SATHISH KUMPALA\n",
      "Constituency: Manvi\n",
      "Loser :  A Bhagavantaray\n",
      "Constituency: Maski\n",
      "Loser :  PRATAPGOUDA PATIL\n",
      "Constituency: Molakalmuru\n",
      "Loser :  S.THIPPESWAMY\n",
      "Constituency: Muddebihal\n",
      "Loser :  A. S. PATIL (NADAHALLI)\n",
      "Constituency: Mudhol\n",
      "Loser :  GOVIND MAKTHAPPA KARJOL\n",
      "Constituency: Mudigere\n",
      "Loser :  DEEPAK DODDAIAH\n",
      "Constituency: Nagthan\n",
      "Loser :  SANJEEV MALASIDDAPPA AIHOLE\n",
      "Constituency: Nanjangud\n",
      "Loser :  B. HARSHAVARDHAN\n",
      "Constituency: Narasimharaja\n",
      "Loser :  S. SATHEESH SANDESH SWAMY\n",
      "Constituency: Navalgund\n",
      "Loser :  SHANKAR BASANAGOUDA PATIL MUNENAKOPPA\n",
      "Constituency: Raichur Rural\n",
      "Loser :  Tipparaju Hawaldar\n",
      "Constituency: Ramdurg\n",
      "Loser :  CHIKKAREVANNA\n",
      "Constituency: Ranibennur\n",
      "Loser :  ARUNKUMAR GUTTUR\n",
      "Constituency: Ron\n",
      "Loser :  KALAKAPPA GURUSHANTAPPA BANDI\n",
      "Constituency: Sagar\n",
      "Loser :  H.HALAPPA HARATHALU\n",
      "Constituency: Sandur\n",
      "Loser :  SHILPA RAGHAVENDRA\n",
      "Constituency: Sarvagnanagar\n",
      "Loser :  PADMANABHA REDDY\n",
      "Constituency: Saundatti Yellamma\n",
      "Loser :  MAMANI RATNA ANAND @ VISHWANATH\n",
      "Constituency: Sedam\n",
      "Loser :  RAJKUMAR PATIL TELKUR\n",
      "Constituency: Shahapur\n",
      "Loser :  AMEENRADDI YALAGI\n",
      "Constituency: Shanti Nagar\n",
      "Loser :  K SHIVAKUMAR\n",
      "Constituency: Shimoga Rural\n",
      "Loser :  K.B.ASHOK NAIK\n",
      "Constituency: Shivajinagar\n",
      "Loser :  CHANDRA.N.\n",
      "Constituency: Shorapur\n",
      "Loser :  NARASIMHANAYAK (RAJUGOUDA)\n",
      "Constituency: Sindgi\n",
      "Loser :  BHUSANUR RAMESH BALAPPA\n",
      "Constituency: Sindhanur\n",
      "Loser :  K. KARIYAPPA\n",
      "Constituency: Sirsi\n",
      "Loser :  KAGERI VISHWESHWAR HEGDE\n",
      "Constituency: Siruguppa\n",
      "Loser :  M. S. SOMALINGAPPA\n",
      "Constituency: Sorab\n",
      "Loser :  S. KUMARA BANGARAPPA\n",
      "Constituency: Sringeri\n",
      "Loser :  D.N.JEEVARAJA.\n",
      "Constituency: Tarikere\n",
      "Loser :  D.S. SURESH\n",
      "Constituency: Tiptur\n",
      "Loser :  B.C. Nagesh\n",
      "Constituency: Turuvekere\n",
      "Loser :  MASALA JAYARAM\n",
      "Constituency: Varuna\n",
      "Loser :  V. SOMANNA\n",
      "Constituency: Vijay Nagar\n",
      "Loser :  H RAVINDRA\n",
      "Constituency: Vijayanagara\n",
      "Loser :  SIDDHARTH SINGH A THAKUR\n",
      "Constituency: Virajpet\n",
      "Loser :  K.G.BOPAIAH\n",
      "Constituency: Yadgir\n",
      "Loser :  VENKATREDDY MUDNAL\n",
      "Constituency: Yelburga\n",
      "Loser :  ACHAR HALAPPA BASAPPA\n",
      "Constituency: Yemkanmardi\n",
      "Loser :  BASAVARAJ HUNDRI\n",
      "Total No. of Trailing candidates from BJP : 112\n"
     ]
    }
   ],
   "source": [
    "df_bjp = df[df['Trailing Party'] == 'Bharatiya Janata Party']\n",
    "\n",
    "# Group the data by 'Constituency' and collect leading candidates\n",
    "constituency_candidates = df_bjp.groupby('Constituency')['Trailing Candidate'].apply(lambda x: x.tolist()).reset_index()\n",
    "\n",
    "c=0\n",
    "print(\"Bharatiya Janata Party\")\n",
    "# Print all the leading candidates from KRPP\n",
    "for index, row in constituency_candidates.iterrows():\n",
    "    print(f\"Constituency: {row['Constituency']}\")\n",
    "    for candidate in row['Trailing Candidate']:\n",
    "        print(f\"Loser :  {candidate}\")\n",
    "        c=c+1\n",
    "print(\"Total No. of Trailing candidates from BJP :\",c)        "
   ]
  },
  {
   "cell_type": "markdown",
   "id": "3afd9905",
   "metadata": {
    "papermill": {
     "duration": 0.042005,
     "end_time": "2023-09-07T17:59:47.822224",
     "exception": false,
     "start_time": "2023-09-07T17:59:47.780219",
     "status": "completed"
    },
    "tags": []
   },
   "source": [
    "# d). Get all Leading candidate from Bharatiya Janata Party"
   ]
  },
  {
   "cell_type": "code",
   "execution_count": 32,
   "id": "a629837a",
   "metadata": {
    "execution": {
     "iopub.execute_input": "2023-09-07T17:59:47.904650Z",
     "iopub.status.busy": "2023-09-07T17:59:47.904208Z",
     "iopub.status.idle": "2023-09-07T17:59:47.913164Z",
     "shell.execute_reply": "2023-09-07T17:59:47.911729Z"
    },
    "papermill": {
     "duration": 0.053186,
     "end_time": "2023-09-07T17:59:47.915721",
     "exception": false,
     "start_time": "2023-09-07T17:59:47.862535",
     "status": "completed"
    },
    "tags": []
   },
   "outputs": [
    {
     "name": "stdout",
     "output_type": "stream",
     "text": [
      "Winnig candidate from BJP :\n",
      "BALACHANDRA LAXMANRAO JARKIHOLI\n",
      "PRABHU B CHAVAN\n",
      "M Krishnappa\n",
      "RAJESH NAIK U\n",
      "SHARANU SALAGAR\n",
      "RAVI SUBRAMANYA L.A.\n",
      "ABHAY PATIL\n",
      "HARISH POONJA\n",
      "H.K. SURESH (HULLALLI SURESH)\n",
      "DR. SHAILENDRA BELDALE\n",
      "BASANAGOUDA R PATIL (YATNAL)\n",
      "SATHISH REDDY .M\n",
      "GURURAJ SHETTY GANTIHOLE\n",
      "S. RAGHU\n",
      "UDAY B. GARUDACHAR\n",
      "AVINASH UMESH JADHAV\n",
      "S. MUNIRAJU\n",
      "DHEERAJ MUNIRAJ\n",
      "JARKIHOLI RAMESH LAXMANRAO\n",
      "BASAWARAJ MATTIMUDU\n",
      "KRISHNA NAYAKA.\n",
      "B P HARISH\n",
      "M.CHANDRAPPA\n",
      "SIDDU PATIL\n",
      "MAHESH TENGINAKAI\n",
      "ARVIND BELLAD\n",
      "KATTI NIKHIL UMESH\n",
      "JAGADEESH SHIVAYYA GUDAGUNTI\n",
      "B. A. BASAVARAJA\n",
      "GURME SURESH SHETTY\n",
      "V SUNILL KUMAR\n",
      "Vithal Somanna Halagekar\n",
      "T.S. SRIVATHSA\n",
      "DINAKAR KESHAV SHETTY\n",
      "A KIRAN KUMAR KODGI\n",
      "M R PATIL\n",
      "DODDANAGOUDA HANAMAGOUDA PATIL\n",
      "MANAPPA D VAJJAL\n",
      "MANJULA S\n",
      "K. GOPALAIAH\n",
      "DR ASHWATH NARAYAN C N\n",
      "BHARATH SHETTY. Y.\n",
      "D.VEDAVYASA KAMATH\n",
      "UMANATHA KOTIAN\n",
      "C. C. PATIl\n",
      "JOLLE SHASHIKALA ANNASAHEB\n",
      "R. ASHOKA\n",
      "Dr. Shivaraj Patil\n",
      "S.SURESH KUMAR\n",
      "MUNIRATHNA\n",
      "AIHOLE DURYODHAN MAHALINGAPPA\n",
      "CEMENT MANJU\n",
      "BASAVARAJ BOMMAI\n",
      "VIJAYENDRA YEDIYURAPPA\n",
      "CHANNABASAPPA (CHENNI)\n",
      "DR.CHANDRU LAMANI\n",
      "BHAGIRATHI MURULYA\n",
      "SIDDU SAVADI\n",
      "ARAGA JNANENDRA\n",
      "G B JYOTHI GANESH\n",
      "B.SURESH GOWDA\n",
      "YASHPAL A SUVARNA\n",
      "S R VISHWANATH\n",
      "ARABAIL HEBBAR SHIVARAM\n",
      "S.T. SOMASHEKAR\n",
      "Total winnig candidate from Bharatiya Janata Party : 65\n"
     ]
    }
   ],
   "source": [
    "df_bjp = df[df['Leading Party']=='Bharatiya Janata Party']\n",
    "x = df_bjp['Leading Candidate']\n",
    "c = 0\n",
    "print('Winnig candidate from BJP :')\n",
    "for candidate in x:\n",
    "    c=c+1     \n",
    "    print(candidate)\n",
    "print(\"Total winnig candidate from Bharatiya Janata Party :\",c)"
   ]
  },
  {
   "cell_type": "markdown",
   "id": "03545d4b",
   "metadata": {
    "papermill": {
     "duration": 0.043137,
     "end_time": "2023-09-07T17:59:47.999119",
     "exception": false,
     "start_time": "2023-09-07T17:59:47.955982",
     "status": "completed"
    },
    "tags": []
   },
   "source": [
    "# 3. Janata Dal (Secular)"
   ]
  },
  {
   "cell_type": "markdown",
   "id": "554cf11b",
   "metadata": {
    "papermill": {
     "duration": 0.041533,
     "end_time": "2023-09-07T17:59:48.101827",
     "exception": false,
     "start_time": "2023-09-07T17:59:48.060294",
     "status": "completed"
    },
    "tags": []
   },
   "source": [
    "# a) . JDS winning by highest and lowest Margin"
   ]
  },
  {
   "cell_type": "code",
   "execution_count": 33,
   "id": "5d97a9a2",
   "metadata": {
    "execution": {
     "iopub.execute_input": "2023-09-07T17:59:48.189394Z",
     "iopub.status.busy": "2023-09-07T17:59:48.188470Z",
     "iopub.status.idle": "2023-09-07T17:59:48.197476Z",
     "shell.execute_reply": "2023-09-07T17:59:48.195485Z"
    },
    "papermill": {
     "duration": 0.054239,
     "end_time": "2023-09-07T17:59:48.200220",
     "exception": false,
     "start_time": "2023-09-07T17:59:48.145981",
     "status": "completed"
    },
    "tags": []
   },
   "outputs": [
    {
     "name": "stdout",
     "output_type": "stream",
     "text": [
      "Maximum margin won by JDS: 34256\n",
      "Minimum margin won by JDS: 2412\n"
     ]
    }
   ],
   "source": [
    "df_jds = df[df['Leading Party']=='Janata Dal (Secular)']\n",
    "max_margin = df_jds['Margin'].max()\n",
    "print(f\"Maximum margin won by JDS: {max_margin}\")\n",
    "min_margin = df_jds['Margin'].min()\n",
    "print(f\"Minimum margin won by JDS: {min_margin}\")"
   ]
  },
  {
   "cell_type": "markdown",
   "id": "ac5bfc5e",
   "metadata": {
    "papermill": {
     "duration": 0.041164,
     "end_time": "2023-09-07T17:59:48.282884",
     "exception": false,
     "start_time": "2023-09-07T17:59:48.241720",
     "status": "completed"
    },
    "tags": []
   },
   "source": [
    "# b). Get all Leading candidate with Constituency from Janata Dal (Secular)"
   ]
  },
  {
   "cell_type": "code",
   "execution_count": 34,
   "id": "cbb3ea89",
   "metadata": {
    "execution": {
     "iopub.execute_input": "2023-09-07T17:59:48.367652Z",
     "iopub.status.busy": "2023-09-07T17:59:48.366868Z",
     "iopub.status.idle": "2023-09-07T17:59:48.380878Z",
     "shell.execute_reply": "2023-09-07T17:59:48.379339Z"
    },
    "papermill": {
     "duration": 0.059306,
     "end_time": "2023-09-07T17:59:48.383396",
     "exception": false,
     "start_time": "2023-09-07T17:59:48.324090",
     "status": "completed"
    },
    "tags": []
   },
   "outputs": [
    {
     "name": "stdout",
     "output_type": "stream",
     "text": [
      "Janata Dal (Secular)\n",
      "Constituency: Arkalgud\n",
      "winner :  A. MANJU\n",
      "Constituency: Chamundeshwari\n",
      "winner :  G. T. DEVEGOWDA\n",
      "Constituency: Channapatna\n",
      "winner :  H.D. KUMARASWAMY\n",
      "Constituency: Chikkanayakanahalli\n",
      "winner :  C B SURESH BAABU\n",
      "Constituency: Devadurga\n",
      "winner :  Karemma\n",
      "Constituency: Devar Hippargi\n",
      "winner :  BHIMANAGOUDA (RAJUGOUDA) BASANAGOUDA PATIL\n",
      "Constituency: Gurmitkal\n",
      "winner :  SHARANA GOWDA KANDAKUR\n",
      "Constituency: Hagaribommanahalli\n",
      "winner :  Nemarajanaik.K\n",
      "Constituency: Hanur\n",
      "winner :  M.R. MANJUNATH\n",
      "Constituency: Hassan\n",
      "winner :  Swaroop Prakash\n",
      "Constituency: Holenarasipur\n",
      "winner :  H.D. REVANNA\n",
      "Constituency: Hunsur\n",
      "winner :  G.D. HARISH GOWDA\n",
      "Constituency: Krishnarajpet\n",
      "winner :  H.T.MANJU\n",
      "Constituency: Mulbagal\n",
      "winner :  SAMRUDDHI V. MANJUNATH\n",
      "Constituency: Shimoga Rural\n",
      "winner :  SHARADA PURYANAIK\n",
      "Constituency: Shravanabelagola\n",
      "winner :  C.N. BALAKRISHNA\n",
      "Constituency: Sidlaghatta\n",
      "winner :  B.N. RAVI KUMAR\n",
      "Constituency: Srinivaspur\n",
      "winner :  G.K. VENKATASHIVAREDDY\n",
      "Constituency: Turuvekere\n",
      "winner :  M.T.KRISHNAPPA\n",
      "Total No. of Leading candidates from JDS : 19\n"
     ]
    }
   ],
   "source": [
    "df_jds = df[df['Leading Party'] == 'Janata Dal (Secular)']\n",
    "\n",
    "# Group the data by 'Constituency' and collect leading candidates\n",
    "constituency_candidates = df_jds.groupby('Constituency')['Leading Candidate'].apply(lambda x: x.tolist()).reset_index()\n",
    "\n",
    "c=0\n",
    "# Print all the leading candidates from JDS\n",
    "print(\"Janata Dal (Secular)\")\n",
    "for index, row in constituency_candidates.iterrows():\n",
    "    print(f\"Constituency: {row['Constituency']}\")\n",
    "    for candidate in row['Leading Candidate']:\n",
    "        print(f\"winner :  {candidate}\")\n",
    "        c+=1\n",
    "print(\"Total No. of Leading candidates from JDS :\",c)          "
   ]
  },
  {
   "cell_type": "markdown",
   "id": "e06b2d9d",
   "metadata": {
    "papermill": {
     "duration": 0.042761,
     "end_time": "2023-09-07T17:59:48.467417",
     "exception": false,
     "start_time": "2023-09-07T17:59:48.424656",
     "status": "completed"
    },
    "tags": []
   },
   "source": [
    "# c). Get all Trailing candidate with Constituency from Janata Dal (Secular)"
   ]
  },
  {
   "cell_type": "code",
   "execution_count": 35,
   "id": "e012e747",
   "metadata": {
    "execution": {
     "iopub.execute_input": "2023-09-07T17:59:48.557127Z",
     "iopub.status.busy": "2023-09-07T17:59:48.556726Z",
     "iopub.status.idle": "2023-09-07T17:59:48.572980Z",
     "shell.execute_reply": "2023-09-07T17:59:48.571988Z"
    },
    "papermill": {
     "duration": 0.065674,
     "end_time": "2023-09-07T17:59:48.576384",
     "exception": false,
     "start_time": "2023-09-07T17:59:48.510710",
     "status": "completed"
    },
    "tags": []
   },
   "outputs": [
    {
     "name": "stdout",
     "output_type": "stream",
     "text": [
      "Janata Dal (Secular)\n",
      "Constituency: Arsikere\n",
      "Loser :  N.R. SANTHOSH\n",
      "Constituency: Bangarapet\n",
      "Loser :  M. Mallesh Babu\n",
      "Constituency: Bhadravati\n",
      "Loser :  SHARADA APPAJI\n",
      "Constituency: Bidar\n",
      "Loser :  SURYAKANTH NAGAMARPALLI\n",
      "Constituency: Challakere\n",
      "Loser :  RAVISH KUMAR.M\n",
      "Constituency: Chintamani\n",
      "Loser :  J.K. KRISHNA REDDY\n",
      "Constituency: Dasarahalli\n",
      "Loser :  R. MANJUNATHA\n",
      "Constituency: Devanahalli\n",
      "Loser :  NISARGA NARAYANASWAMY L.N\n",
      "Constituency: Indi\n",
      "Loser :  B. D. PATIL (HANJAGI)\n",
      "Constituency: Jevargi\n",
      "Loser :  DODDAPPAGOUDA\n",
      "Constituency: Kanakapura\n",
      "Loser :  B NAGARAJU\n",
      "Constituency: Kolar\n",
      "Loser :  C.M.R. SRINATH\n",
      "Constituency: Koratagere\n",
      "Loser :  P. R. SUDHAKAR LAL\n",
      "Constituency: Krishnarajanagara\n",
      "Loser :  SA.RA. MAHESH.\n",
      "Constituency: Kumta\n",
      "Loser :  SURAJ NAIK SONI\n",
      "Constituency: Maddur\n",
      "Loser :  D.C.THAMMANNA\n",
      "Constituency: Madhugiri\n",
      "Loser :  M.V.VEERABHADRAIAH\n",
      "Constituency: Magadi\n",
      "Loser :  A. MANJUNATH.\n",
      "Constituency: Malavalli\n",
      "Loser :  Dr|| K. Annadani\n",
      "Constituency: Mandya\n",
      "Loser :  B.R. RAMACHANDRA\n",
      "Constituency: Melukote\n",
      "Loser :  C. S. PUTTARAJU\n",
      "Constituency: Nagamangala\n",
      "Loser :  SURESHGOWDAA\n",
      "Constituency: Nelamangala\n",
      "Loser :  Dr. K.SRINIVASAMURTHY\n",
      "Constituency: Pavagada\n",
      "Loser :  K.M.THIMMARAYAPPA\n",
      "Constituency: Periyapatna\n",
      "Loser :  K. MAHADEVA\n",
      "Constituency: Ramanagaram\n",
      "Loser :  NIKHIL KUMARASWAMY\n",
      "Constituency: Sakleshpur\n",
      "Loser :  KUMARASWAMY H.K\n",
      "Constituency: Shrirangapattana\n",
      "Loser :  RAVINDRA SRIKANTAIAH\n",
      "Constituency: Sira\n",
      "Loser :  R Ugresh\n",
      "Constituency: T.Narasipur\n",
      "Loser :  ASHVIN KUMAR M\n",
      "Constituency: Tumkur City\n",
      "Loser :  N GOVINDARAJU\n",
      "Constituency: Tumkur Rural\n",
      "Loser :  D.C.GOWRISHANKAR SWAMY\n",
      "Constituency: Yeshvanthapura\n",
      "Loser :  T.N.JAVARAYI GOWDA\n",
      "Total No. of Trailing candidates from JDS : 33\n"
     ]
    }
   ],
   "source": [
    "df_jds = df[df['Trailing Party'] == 'Janata Dal (Secular)']\n",
    "\n",
    "# Group the data by 'Constituency' and collect leading candidates\n",
    "constituency_candidates = df_jds.groupby('Constituency')['Trailing Candidate'].apply(lambda x: x.tolist()).reset_index()\n",
    "\n",
    "c=0\n",
    "print(\"Janata Dal (Secular)\")\n",
    "# Print all the leading candidates from KRPP\n",
    "for index, row in constituency_candidates.iterrows():\n",
    "    print(f\"Constituency: {row['Constituency']}\")\n",
    "    for candidate in row['Trailing Candidate']:\n",
    "        print(f\"Loser :  {candidate}\")\n",
    "        c=c+1\n",
    "print(\"Total No. of Trailing candidates from JDS :\",c)          "
   ]
  },
  {
   "cell_type": "markdown",
   "id": "a1bf2cdf",
   "metadata": {
    "papermill": {
     "duration": 0.042578,
     "end_time": "2023-09-07T17:59:48.660984",
     "exception": false,
     "start_time": "2023-09-07T17:59:48.618406",
     "status": "completed"
    },
    "tags": []
   },
   "source": [
    "# d). Get all Leading candidate from Janata Dal (Secular)"
   ]
  },
  {
   "cell_type": "code",
   "execution_count": 36,
   "id": "0c870eb6",
   "metadata": {
    "execution": {
     "iopub.execute_input": "2023-09-07T17:59:48.750256Z",
     "iopub.status.busy": "2023-09-07T17:59:48.749425Z",
     "iopub.status.idle": "2023-09-07T17:59:48.758733Z",
     "shell.execute_reply": "2023-09-07T17:59:48.757150Z"
    },
    "papermill": {
     "duration": 0.055839,
     "end_time": "2023-09-07T17:59:48.762394",
     "exception": false,
     "start_time": "2023-09-07T17:59:48.706555",
     "status": "completed"
    },
    "tags": []
   },
   "outputs": [
    {
     "name": "stdout",
     "output_type": "stream",
     "text": [
      "winnig candidate from JDS :\n",
      "A. MANJU\n",
      "G. T. DEVEGOWDA\n",
      "H.D. KUMARASWAMY\n",
      "C B SURESH BAABU\n",
      "Karemma\n",
      "BHIMANAGOUDA (RAJUGOUDA) BASANAGOUDA PATIL\n",
      "SHARANA GOWDA KANDAKUR\n",
      "Nemarajanaik.K\n",
      "M.R. MANJUNATH\n",
      "Swaroop Prakash\n",
      "H.D. REVANNA\n",
      "G.D. HARISH GOWDA\n",
      "H.T.MANJU\n",
      "SAMRUDDHI V. MANJUNATH\n",
      "SHARADA PURYANAIK\n",
      "C.N. BALAKRISHNA\n",
      "B.N. RAVI KUMAR\n",
      "G.K. VENKATASHIVAREDDY\n",
      "M.T.KRISHNAPPA\n",
      "Total winnig candidate from Janata Dal (Secular) : 19\n"
     ]
    }
   ],
   "source": [
    "df_jds = df[df['Leading Party']=='Janata Dal (Secular)']\n",
    "x = df_jds['Leading Candidate']\n",
    "c = 0\n",
    "print('winnig candidate from JDS :')\n",
    "for candidate in x:\n",
    "    c=c+1     \n",
    "    print(candidate)\n",
    "print(\"Total winnig candidate from Janata Dal (Secular) :\",c) "
   ]
  },
  {
   "cell_type": "markdown",
   "id": "95b25b12",
   "metadata": {
    "papermill": {
     "duration": 0.044068,
     "end_time": "2023-09-07T17:59:48.848098",
     "exception": false,
     "start_time": "2023-09-07T17:59:48.804030",
     "status": "completed"
    },
    "tags": []
   },
   "source": [
    "# 4. Kalyana Rajya Pragathi Paksha"
   ]
  },
  {
   "cell_type": "markdown",
   "id": "4f0793de",
   "metadata": {
    "papermill": {
     "duration": 0.042802,
     "end_time": "2023-09-07T17:59:48.933612",
     "exception": false,
     "start_time": "2023-09-07T17:59:48.890810",
     "status": "completed"
    },
    "tags": []
   },
   "source": [
    "# a) . Kalyana Rajya Pragathi Paksha winning by highest and lowest Margin"
   ]
  },
  {
   "cell_type": "code",
   "execution_count": 37,
   "id": "bbe8a86e",
   "metadata": {
    "execution": {
     "iopub.execute_input": "2023-09-07T17:59:49.020032Z",
     "iopub.status.busy": "2023-09-07T17:59:49.019094Z",
     "iopub.status.idle": "2023-09-07T17:59:49.028901Z",
     "shell.execute_reply": "2023-09-07T17:59:49.027816Z"
    },
    "papermill": {
     "duration": 0.056554,
     "end_time": "2023-09-07T17:59:49.031631",
     "exception": false,
     "start_time": "2023-09-07T17:59:48.975077",
     "status": "completed"
    },
    "tags": []
   },
   "outputs": [
    {
     "name": "stdout",
     "output_type": "stream",
     "text": [
      "Maximum margin won by KRPP: 8266\n",
      "Minimum margin won by KRPP: 8266\n"
     ]
    }
   ],
   "source": [
    "df_krpp = df[df['Leading Party']=='Kalyana Rajya Pragathi Paksha']\n",
    "max_margin = df_krpp['Margin'].max()\n",
    "print(f\"Maximum margin won by KRPP: {max_margin}\")\n",
    "min_margin = df_krpp['Margin'].min()\n",
    "print(f\"Minimum margin won by KRPP: {min_margin}\")"
   ]
  },
  {
   "cell_type": "markdown",
   "id": "bf404875",
   "metadata": {
    "papermill": {
     "duration": 0.044199,
     "end_time": "2023-09-07T17:59:49.119374",
     "exception": false,
     "start_time": "2023-09-07T17:59:49.075175",
     "status": "completed"
    },
    "tags": []
   },
   "source": [
    "# b). Get all Leading candidate with Constituency from Kalyana Rajya Pragathi Paksha"
   ]
  },
  {
   "cell_type": "code",
   "execution_count": 38,
   "id": "c3643e18",
   "metadata": {
    "execution": {
     "iopub.execute_input": "2023-09-07T17:59:49.210278Z",
     "iopub.status.busy": "2023-09-07T17:59:49.209479Z",
     "iopub.status.idle": "2023-09-07T17:59:49.221545Z",
     "shell.execute_reply": "2023-09-07T17:59:49.219844Z"
    },
    "papermill": {
     "duration": 0.058598,
     "end_time": "2023-09-07T17:59:49.224120",
     "exception": false,
     "start_time": "2023-09-07T17:59:49.165522",
     "status": "completed"
    },
    "tags": []
   },
   "outputs": [
    {
     "name": "stdout",
     "output_type": "stream",
     "text": [
      "Kalyana Rajya Pragathi Paksha\n",
      "Constituency: Gangawati\n",
      "winner :  G JANARDHAN REDDY\n",
      "Total No. of Leading candidates from KRPP : 1\n"
     ]
    }
   ],
   "source": [
    "df_krpp = df[df['Leading Party'] == 'Kalyana Rajya Pragathi Paksha']\n",
    "\n",
    "# Group the data by 'Constituency' and collect leading candidates\n",
    "constituency_candidates = df_krpp.groupby('Constituency')['Leading Candidate'].apply(lambda x: x.tolist()).reset_index()\n",
    "\n",
    "c=0\n",
    "print(\"Kalyana Rajya Pragathi Paksha\")\n",
    "# Print all the leading candidates from KRPP\n",
    "for index, row in constituency_candidates.iterrows():\n",
    "    print(f\"Constituency: {row['Constituency']}\")\n",
    "    for candidate in row['Leading Candidate']:\n",
    "        print(f\"winner :  {candidate}\")\n",
    "        c+=1\n",
    "print(\"Total No. of Leading candidates from KRPP :\",c)          "
   ]
  },
  {
   "cell_type": "markdown",
   "id": "8e48c7c4",
   "metadata": {
    "papermill": {
     "duration": 0.042591,
     "end_time": "2023-09-07T17:59:49.309208",
     "exception": false,
     "start_time": "2023-09-07T17:59:49.266617",
     "status": "completed"
    },
    "tags": []
   },
   "source": [
    "# c). Get all Trailing candidate with Constituency from Kalyana Rajya Pragathi Paksha"
   ]
  },
  {
   "cell_type": "code",
   "execution_count": 39,
   "id": "c0211c12",
   "metadata": {
    "execution": {
     "iopub.execute_input": "2023-09-07T17:59:49.395496Z",
     "iopub.status.busy": "2023-09-07T17:59:49.394637Z",
     "iopub.status.idle": "2023-09-07T17:59:49.406293Z",
     "shell.execute_reply": "2023-09-07T17:59:49.404931Z"
    },
    "papermill": {
     "duration": 0.058291,
     "end_time": "2023-09-07T17:59:49.408896",
     "exception": false,
     "start_time": "2023-09-07T17:59:49.350605",
     "status": "completed"
    },
    "tags": []
   },
   "outputs": [
    {
     "name": "stdout",
     "output_type": "stream",
     "text": [
      "Kalyana Rajya Pragathi Paksha\n",
      "Constituency: Bellary City\n",
      "Loser :  GALI LAKSHMI ARUNA\n",
      "Total No. of Trailing candidates from KRPP : 1\n"
     ]
    }
   ],
   "source": [
    "df_krpp = df[df['Trailing Party'] == 'Kalyana Rajya Pragathi Paksha']\n",
    "\n",
    "# Group the data by 'Constituency' and collect leading candidates\n",
    "constituency_candidates = df_krpp.groupby('Constituency')['Trailing Candidate'].apply(lambda x: x.tolist()).reset_index()\n",
    "\n",
    "c=0\n",
    "print(\"Kalyana Rajya Pragathi Paksha\")\n",
    "# Print all the leading candidates from KRPP\n",
    "for index, row in constituency_candidates.iterrows():\n",
    "    print(f\"Constituency: {row['Constituency']}\")\n",
    "    for candidate in row['Trailing Candidate']:\n",
    "        print(f\"Loser :  {candidate}\")\n",
    "        c+=1\n",
    "print(\"Total No. of Trailing candidates from KRPP :\",c)          "
   ]
  },
  {
   "cell_type": "markdown",
   "id": "94465e26",
   "metadata": {
    "papermill": {
     "duration": 0.042911,
     "end_time": "2023-09-07T17:59:49.494476",
     "exception": false,
     "start_time": "2023-09-07T17:59:49.451565",
     "status": "completed"
    },
    "tags": []
   },
   "source": [
    "# d). Get all Leading candidate from Kalyana Rajya Pragathi Paksha"
   ]
  },
  {
   "cell_type": "code",
   "execution_count": 40,
   "id": "623140ca",
   "metadata": {
    "execution": {
     "iopub.execute_input": "2023-09-07T17:59:49.582084Z",
     "iopub.status.busy": "2023-09-07T17:59:49.581265Z",
     "iopub.status.idle": "2023-09-07T17:59:49.589202Z",
     "shell.execute_reply": "2023-09-07T17:59:49.588230Z"
    },
    "papermill": {
     "duration": 0.054034,
     "end_time": "2023-09-07T17:59:49.591734",
     "exception": false,
     "start_time": "2023-09-07T17:59:49.537700",
     "status": "completed"
    },
    "tags": []
   },
   "outputs": [
    {
     "name": "stdout",
     "output_type": "stream",
     "text": [
      "winnig candidate from KRPP :\n",
      "G JANARDHAN REDDY\n",
      "Total winnig candidate from Kalyana Rajya Pragathi Paksha : 1\n"
     ]
    }
   ],
   "source": [
    "df_krpp = df[df['Leading Party']=='Kalyana Rajya Pragathi Paksha']\n",
    "x = df_krpp['Leading Candidate']\n",
    "c = 0\n",
    "print('winnig candidate from KRPP :')\n",
    "for candidate in x:\n",
    "    c=c+1     \n",
    "    print(candidate)\n",
    "print(\"Total winnig candidate from Kalyana Rajya Pragathi Paksha :\",c) "
   ]
  },
  {
   "cell_type": "markdown",
   "id": "e7b69fc8",
   "metadata": {
    "papermill": {
     "duration": 0.049311,
     "end_time": "2023-09-07T17:59:49.686890",
     "exception": false,
     "start_time": "2023-09-07T17:59:49.637579",
     "status": "completed"
    },
    "tags": []
   },
   "source": [
    "# 5. Sarvodaya Karnataka Paksha"
   ]
  },
  {
   "cell_type": "markdown",
   "id": "808876e2",
   "metadata": {
    "papermill": {
     "duration": 0.043944,
     "end_time": "2023-09-07T17:59:49.774963",
     "exception": false,
     "start_time": "2023-09-07T17:59:49.731019",
     "status": "completed"
    },
    "tags": []
   },
   "source": [
    "# a). Sarvodaya Karnataka Paksha winning by highest and lowest Margin"
   ]
  },
  {
   "cell_type": "code",
   "execution_count": 41,
   "id": "edd2c708",
   "metadata": {
    "execution": {
     "iopub.execute_input": "2023-09-07T17:59:49.862647Z",
     "iopub.status.busy": "2023-09-07T17:59:49.861890Z",
     "iopub.status.idle": "2023-09-07T17:59:49.869077Z",
     "shell.execute_reply": "2023-09-07T17:59:49.868301Z"
    },
    "papermill": {
     "duration": 0.054508,
     "end_time": "2023-09-07T17:59:49.871450",
     "exception": false,
     "start_time": "2023-09-07T17:59:49.816942",
     "status": "completed"
    },
    "tags": []
   },
   "outputs": [
    {
     "name": "stdout",
     "output_type": "stream",
     "text": [
      "Maximum margin won by SKP: 10862\n",
      "Minimum margin won by SKP: 10862\n"
     ]
    }
   ],
   "source": [
    "df_skp = df[df['Leading Party']=='Sarvodaya Karnataka Paksha']\n",
    "max_margin = df_skp['Margin'].max()\n",
    "print(f\"Maximum margin won by SKP: {max_margin}\")\n",
    "min_margin = df_skp['Margin'].min()\n",
    "print(f\"Minimum margin won by SKP: {min_margin}\")"
   ]
  },
  {
   "cell_type": "markdown",
   "id": "7528068d",
   "metadata": {
    "papermill": {
     "duration": 0.042466,
     "end_time": "2023-09-07T17:59:49.956727",
     "exception": false,
     "start_time": "2023-09-07T17:59:49.914261",
     "status": "completed"
    },
    "tags": []
   },
   "source": [
    "# b). Get all Leading candidate with Constituency from Sarvodaya Karnataka Paksha"
   ]
  },
  {
   "cell_type": "code",
   "execution_count": 42,
   "id": "faa22443",
   "metadata": {
    "execution": {
     "iopub.execute_input": "2023-09-07T17:59:50.044897Z",
     "iopub.status.busy": "2023-09-07T17:59:50.044096Z",
     "iopub.status.idle": "2023-09-07T17:59:50.056356Z",
     "shell.execute_reply": "2023-09-07T17:59:50.054452Z"
    },
    "papermill": {
     "duration": 0.059935,
     "end_time": "2023-09-07T17:59:50.059243",
     "exception": false,
     "start_time": "2023-09-07T17:59:49.999308",
     "status": "completed"
    },
    "tags": []
   },
   "outputs": [
    {
     "name": "stdout",
     "output_type": "stream",
     "text": [
      "Sarvodaya Karnataka Paksha\n",
      "Constituency: Melukote\n",
      "winner :  DHARSHAN PUTTANNAIAH\n",
      "Total No. of Leading candidates from SKP : 1\n"
     ]
    }
   ],
   "source": [
    "df_skp = df[df['Leading Party'] == 'Sarvodaya Karnataka Paksha']\n",
    "\n",
    "# Group the data by 'Constituency' and collect leading candidates\n",
    "constituency_candidates = df_skp.groupby('Constituency')['Leading Candidate'].apply(lambda x: x.tolist()).reset_index()\n",
    "\n",
    "c=0\n",
    "print(\"Sarvodaya Karnataka Paksha\")\n",
    "# Print all the leading candidates from KRPP\n",
    "for index, row in constituency_candidates.iterrows():\n",
    "    print(f\"Constituency: {row['Constituency']}\")\n",
    "    for candidate in row['Leading Candidate']:\n",
    "        print(f\"winner :  {candidate}\")\n",
    "        c+=1\n",
    "print(\"Total No. of Leading candidates from SKP :\",c)          "
   ]
  },
  {
   "cell_type": "markdown",
   "id": "62ac0038",
   "metadata": {
    "papermill": {
     "duration": 0.041306,
     "end_time": "2023-09-07T17:59:50.144874",
     "exception": false,
     "start_time": "2023-09-07T17:59:50.103568",
     "status": "completed"
    },
    "tags": []
   },
   "source": [
    "# c). Get all Trailing candidate with Constituency from Sarvodaya Karnataka Paksha"
   ]
  },
  {
   "cell_type": "code",
   "execution_count": 43,
   "id": "1dfe8713",
   "metadata": {
    "execution": {
     "iopub.execute_input": "2023-09-07T17:59:50.231643Z",
     "iopub.status.busy": "2023-09-07T17:59:50.230889Z",
     "iopub.status.idle": "2023-09-07T17:59:50.243131Z",
     "shell.execute_reply": "2023-09-07T17:59:50.241328Z"
    },
    "papermill": {
     "duration": 0.058404,
     "end_time": "2023-09-07T17:59:50.246101",
     "exception": false,
     "start_time": "2023-09-07T17:59:50.187697",
     "status": "completed"
    },
    "tags": []
   },
   "outputs": [
    {
     "name": "stdout",
     "output_type": "stream",
     "text": [
      "Sarvodaya Karnataka Paksha\n",
      "Total No. of Trailing candidates from SKP : 0\n"
     ]
    }
   ],
   "source": [
    "df_skp = df[df['Trailing Party'] == 'Sarvodaya Karnataka Paksha']\n",
    "\n",
    "# Group the data by 'Constituency' and collect leading candidates\n",
    "constituency_candidates = df_skp.groupby('Constituency')['Trailing Candidate'].apply(lambda x: x.tolist()).reset_index()\n",
    "\n",
    "c=0\n",
    "print(\"Sarvodaya Karnataka Paksha\")\n",
    "# Print all the leading candidates from KRPP\n",
    "for index, row in constituency_candidates.iterrows():\n",
    "    print(f\"Constituency: {row['Constituency']}\")\n",
    "    for candidate in row['Trailing Candidate']:\n",
    "        print(f\"Loser :  {candidate}\")\n",
    "        c+=1\n",
    "print(\"Total No. of Trailing candidates from SKP :\",c)          "
   ]
  },
  {
   "cell_type": "markdown",
   "id": "776e1358",
   "metadata": {
    "papermill": {
     "duration": 0.046819,
     "end_time": "2023-09-07T17:59:50.337347",
     "exception": false,
     "start_time": "2023-09-07T17:59:50.290528",
     "status": "completed"
    },
    "tags": []
   },
   "source": [
    "# d). Get all Leading candidate from Sarvodaya Karnataka Paksha"
   ]
  },
  {
   "cell_type": "code",
   "execution_count": 44,
   "id": "fb70ad0f",
   "metadata": {
    "execution": {
     "iopub.execute_input": "2023-09-07T17:59:50.429841Z",
     "iopub.status.busy": "2023-09-07T17:59:50.428361Z",
     "iopub.status.idle": "2023-09-07T17:59:50.437194Z",
     "shell.execute_reply": "2023-09-07T17:59:50.436304Z"
    },
    "papermill": {
     "duration": 0.058882,
     "end_time": "2023-09-07T17:59:50.440101",
     "exception": false,
     "start_time": "2023-09-07T17:59:50.381219",
     "status": "completed"
    },
    "tags": []
   },
   "outputs": [
    {
     "name": "stdout",
     "output_type": "stream",
     "text": [
      "winnig candidate from SKP :\n",
      "DHARSHAN PUTTANNAIAH\n",
      "Total winnig candidate from Sarvodaya Karnataka Paksha : 1\n"
     ]
    }
   ],
   "source": [
    "df_skp = df[df['Leading Party']=='Sarvodaya Karnataka Paksha']\n",
    "x = df_skp['Leading Candidate']\n",
    "c = 0\n",
    "print('winnig candidate from SKP :')\n",
    "for candidate in x:\n",
    "    c=c+1     \n",
    "    print(candidate)\n",
    "print(\"Total winnig candidate from Sarvodaya Karnataka Paksha :\",c) "
   ]
  },
  {
   "cell_type": "markdown",
   "id": "9f65c6e0",
   "metadata": {
    "papermill": {
     "duration": 0.043923,
     "end_time": "2023-09-07T17:59:50.526501",
     "exception": false,
     "start_time": "2023-09-07T17:59:50.482578",
     "status": "completed"
    },
    "tags": []
   },
   "source": [
    "# 6. Independaent Candidate "
   ]
  },
  {
   "cell_type": "markdown",
   "id": "a3b98a04",
   "metadata": {
    "papermill": {
     "duration": 0.042367,
     "end_time": "2023-09-07T17:59:50.612765",
     "exception": false,
     "start_time": "2023-09-07T17:59:50.570398",
     "status": "completed"
    },
    "tags": []
   },
   "source": [
    "# a). Independaent Candidate winning by highest and lowest Margin"
   ]
  },
  {
   "cell_type": "code",
   "execution_count": 45,
   "id": "566b1e3c",
   "metadata": {
    "execution": {
     "iopub.execute_input": "2023-09-07T17:59:50.703041Z",
     "iopub.status.busy": "2023-09-07T17:59:50.702260Z",
     "iopub.status.idle": "2023-09-07T17:59:50.709907Z",
     "shell.execute_reply": "2023-09-07T17:59:50.708917Z"
    },
    "papermill": {
     "duration": 0.056331,
     "end_time": "2023-09-07T17:59:50.712212",
     "exception": false,
     "start_time": "2023-09-07T17:59:50.655881",
     "status": "completed"
    },
    "tags": []
   },
   "outputs": [
    {
     "name": "stdout",
     "output_type": "stream",
     "text": [
      "Maximum margin won by IC: 37286\n",
      "Minimum margin won by IC: 13845\n"
     ]
    }
   ],
   "source": [
    "df_IC = df[df['Leading Party']=='Independent']\n",
    "max_margin = df_IC['Margin'].max()\n",
    "print(f\"Maximum margin won by IC: {max_margin}\")\n",
    "min_margin = df_IC['Margin'].min()\n",
    "print(f\"Minimum margin won by IC: {min_margin}\")"
   ]
  },
  {
   "cell_type": "markdown",
   "id": "3828c660",
   "metadata": {
    "papermill": {
     "duration": 0.042712,
     "end_time": "2023-09-07T17:59:50.798470",
     "exception": false,
     "start_time": "2023-09-07T17:59:50.755758",
     "status": "completed"
    },
    "tags": []
   },
   "source": [
    "# b). Get all Leading candidate with Constituency from Independent "
   ]
  },
  {
   "cell_type": "code",
   "execution_count": 46,
   "id": "78005fbd",
   "metadata": {
    "execution": {
     "iopub.execute_input": "2023-09-07T17:59:50.890499Z",
     "iopub.status.busy": "2023-09-07T17:59:50.890030Z",
     "iopub.status.idle": "2023-09-07T17:59:50.902713Z",
     "shell.execute_reply": "2023-09-07T17:59:50.901574Z"
    },
    "papermill": {
     "duration": 0.064878,
     "end_time": "2023-09-07T17:59:50.906179",
     "exception": false,
     "start_time": "2023-09-07T17:59:50.841301",
     "status": "completed"
    },
    "tags": []
   },
   "outputs": [
    {
     "name": "stdout",
     "output_type": "stream",
     "text": [
      "Independaent Candidate\n",
      "Constituency: Gauribidanur\n",
      "winner :  K.H.PUTTASWAMY GOWDA (KHP)\n",
      "Constituency: Harapanahalli\n",
      "winner :  LATHA MALLIKARJUN\n",
      "Total No. of Leading candidates from Independent : 2\n"
     ]
    }
   ],
   "source": [
    "df_IC = df[df['Leading Party'] == 'Independent']\n",
    "\n",
    "# Group the data by 'Constituency' and collect leading candidates\n",
    "constituency_candidates = df_IC.groupby('Constituency')['Leading Candidate'].apply(lambda x: x.tolist()).reset_index()\n",
    "\n",
    "c=0\n",
    "print(\"Independaent Candidate\")\n",
    "# Print all the leading candidates from KRPP\n",
    "for index, row in constituency_candidates.iterrows():\n",
    "    print(f\"Constituency: {row['Constituency']}\")\n",
    "    for candidate in row['Leading Candidate']:\n",
    "        print(f\"winner :  {candidate}\")\n",
    "        c+=1\n",
    "print(\"Total No. of Leading candidates from Independent :\",c)          "
   ]
  },
  {
   "cell_type": "markdown",
   "id": "acef782b",
   "metadata": {
    "papermill": {
     "duration": 0.04396,
     "end_time": "2023-09-07T17:59:50.995062",
     "exception": false,
     "start_time": "2023-09-07T17:59:50.951102",
     "status": "completed"
    },
    "tags": []
   },
   "source": [
    "# c). Get all Trailing candidate with Constituency from Independent"
   ]
  },
  {
   "cell_type": "code",
   "execution_count": 47,
   "id": "c4997326",
   "metadata": {
    "execution": {
     "iopub.execute_input": "2023-09-07T17:59:51.085505Z",
     "iopub.status.busy": "2023-09-07T17:59:51.084803Z",
     "iopub.status.idle": "2023-09-07T17:59:51.099018Z",
     "shell.execute_reply": "2023-09-07T17:59:51.098143Z"
    },
    "papermill": {
     "duration": 0.062908,
     "end_time": "2023-09-07T17:59:51.101594",
     "exception": false,
     "start_time": "2023-09-07T17:59:51.038686",
     "status": "completed"
    },
    "tags": []
   },
   "outputs": [
    {
     "name": "stdout",
     "output_type": "stream",
     "text": [
      "Independent Candidate\n",
      "Constituency: Afzalpur\n",
      "Loser :  NITIN VENKAYYA GUTTEDAR\n",
      "Constituency: Arabhavi\n",
      "Loser :  BHIMAPPA GUNDAPPA GADAD\n",
      "Constituency: Arkalgud\n",
      "Loser :  M.T. KRISHNEGOWDA\n",
      "Constituency: Belgaum Dakshin\n",
      "Loser :  RAMAKANT KONDUSKAR\n",
      "Constituency: Channagiri\n",
      "Loser :  MADAL MALLIKARJUNA\n",
      "Constituency: Mayakonda\n",
      "Loser :  B.M. PUSHPA VAGEESHASWAMY\n",
      "Constituency: Puttur\n",
      "Loser :  ARUN KUMAR PUTHILA\n",
      "Constituency: Raybag\n",
      "Loser :  SHAMBHU KALLOLIKAR\n",
      "Constituency: Shikaripura\n",
      "Loser :  S. P. NAGARAJAGOWDA\n",
      "Constituency: Shirahatti\n",
      "Loser :  RAMAKRISHNA. SHIDLINGAPPA. DODDAMANI\n",
      "Constituency: Sidlaghatta\n",
      "Loser :  PUTTU ANJINAPPA\n",
      "Total No. of Trailing candidates from Independent : 11\n"
     ]
    }
   ],
   "source": [
    "df_IC = df[df['Trailing Party'] == 'Independent']\n",
    "\n",
    "# Group the data by 'Constituency' and collect leading candidates\n",
    "constituency_candidates = df_IC.groupby('Constituency')['Trailing Candidate'].apply(lambda x: x.tolist()).reset_index()\n",
    "\n",
    "c=0\n",
    "print(\"Independent Candidate\")\n",
    "# Print all the leading candidates from KRPP\n",
    "for index, row in constituency_candidates.iterrows():\n",
    "    print(f\"Constituency: {row['Constituency']}\")\n",
    "    for candidate in row['Trailing Candidate']:\n",
    "        print(f\"Loser :  {candidate}\")\n",
    "        c+=1\n",
    "print(\"Total No. of Trailing candidates from Independent :\",c)          "
   ]
  },
  {
   "cell_type": "markdown",
   "id": "791c2d0a",
   "metadata": {
    "papermill": {
     "duration": 0.041756,
     "end_time": "2023-09-07T17:59:51.185493",
     "exception": false,
     "start_time": "2023-09-07T17:59:51.143737",
     "status": "completed"
    },
    "tags": []
   },
   "source": [
    "# d). Get all Leading candidate from Independent"
   ]
  },
  {
   "cell_type": "code",
   "execution_count": 48,
   "id": "d6ca0fc5",
   "metadata": {
    "execution": {
     "iopub.execute_input": "2023-09-07T17:59:51.275060Z",
     "iopub.status.busy": "2023-09-07T17:59:51.274268Z",
     "iopub.status.idle": "2023-09-07T17:59:51.282732Z",
     "shell.execute_reply": "2023-09-07T17:59:51.281594Z"
    },
    "papermill": {
     "duration": 0.057998,
     "end_time": "2023-09-07T17:59:51.285588",
     "exception": false,
     "start_time": "2023-09-07T17:59:51.227590",
     "status": "completed"
    },
    "tags": []
   },
   "outputs": [
    {
     "name": "stdout",
     "output_type": "stream",
     "text": [
      "winnig candidate from IC :\n",
      "K.H.PUTTASWAMY GOWDA (KHP)\n",
      "LATHA MALLIKARJUN\n",
      "Total winnig candidate from Independent : 2\n"
     ]
    }
   ],
   "source": [
    "df_IC = df[df['Leading Party']=='Independent']\n",
    "x = df_IC['Leading Candidate']\n",
    "c = 0\n",
    "print('winnig candidate from IC :')\n",
    "for candidate in x:\n",
    "    c=c+1     \n",
    "    print(candidate)\n",
    "print(\"Total winnig candidate from Independent :\",c) "
   ]
  },
  {
   "cell_type": "markdown",
   "id": "9e845be2",
   "metadata": {
    "papermill": {
     "duration": 0.041873,
     "end_time": "2023-09-07T17:59:51.371940",
     "exception": false,
     "start_time": "2023-09-07T17:59:51.330067",
     "status": "completed"
    },
    "tags": []
   },
   "source": [
    "# Group by 'Leading Party' and get leading candidate and then Print the result for each Party"
   ]
  },
  {
   "cell_type": "code",
   "execution_count": 49,
   "id": "2dc42d6f",
   "metadata": {
    "execution": {
     "iopub.execute_input": "2023-09-07T17:59:51.460495Z",
     "iopub.status.busy": "2023-09-07T17:59:51.460040Z",
     "iopub.status.idle": "2023-09-07T17:59:51.472909Z",
     "shell.execute_reply": "2023-09-07T17:59:51.471775Z"
    },
    "papermill": {
     "duration": 0.062842,
     "end_time": "2023-09-07T17:59:51.477251",
     "exception": false,
     "start_time": "2023-09-07T17:59:51.414409",
     "status": "completed"
    },
    "tags": []
   },
   "outputs": [
    {
     "name": "stdout",
     "output_type": "stream",
     "text": [
      "Party: Bharatiya Janata Party\n",
      "Winning candidate :\n",
      "BALACHANDRA LAXMANRAO JARKIHOLI\n",
      "PRABHU B CHAVAN\n",
      "M Krishnappa\n",
      "RAJESH NAIK U\n",
      "SHARANU SALAGAR\n",
      "RAVI SUBRAMANYA L.A.\n",
      "ABHAY PATIL\n",
      "HARISH POONJA\n",
      "H.K. SURESH (HULLALLI SURESH)\n",
      "DR. SHAILENDRA BELDALE\n",
      "BASANAGOUDA R PATIL (YATNAL)\n",
      "SATHISH REDDY .M\n",
      "GURURAJ SHETTY GANTIHOLE\n",
      "S. RAGHU\n",
      "UDAY B. GARUDACHAR\n",
      "AVINASH UMESH JADHAV\n",
      "S. MUNIRAJU\n",
      "DHEERAJ MUNIRAJ\n",
      "JARKIHOLI RAMESH LAXMANRAO\n",
      "BASAWARAJ MATTIMUDU\n",
      "KRISHNA NAYAKA.\n",
      "B P HARISH\n",
      "M.CHANDRAPPA\n",
      "SIDDU PATIL\n",
      "MAHESH TENGINAKAI\n",
      "ARVIND BELLAD\n",
      "KATTI NIKHIL UMESH\n",
      "JAGADEESH SHIVAYYA GUDAGUNTI\n",
      "B. A. BASAVARAJA\n",
      "GURME SURESH SHETTY\n",
      "V SUNILL KUMAR\n",
      "Vithal Somanna Halagekar\n",
      "T.S. SRIVATHSA\n",
      "DINAKAR KESHAV SHETTY\n",
      "A KIRAN KUMAR KODGI\n",
      "M R PATIL\n",
      "DODDANAGOUDA HANAMAGOUDA PATIL\n",
      "MANAPPA D VAJJAL\n",
      "MANJULA S\n",
      "K. GOPALAIAH\n",
      "DR ASHWATH NARAYAN C N\n",
      "BHARATH SHETTY. Y.\n",
      "D.VEDAVYASA KAMATH\n",
      "UMANATHA KOTIAN\n",
      "C. C. PATIl\n",
      "JOLLE SHASHIKALA ANNASAHEB\n",
      "R. ASHOKA\n",
      "Dr. Shivaraj Patil\n",
      "S.SURESH KUMAR\n",
      "MUNIRATHNA\n",
      "AIHOLE DURYODHAN MAHALINGAPPA\n",
      "CEMENT MANJU\n",
      "BASAVARAJ BOMMAI\n",
      "VIJAYENDRA YEDIYURAPPA\n",
      "CHANNABASAPPA (CHENNI)\n",
      "DR.CHANDRU LAMANI\n",
      "BHAGIRATHI MURULYA\n",
      "SIDDU SAVADI\n",
      "ARAGA JNANENDRA\n",
      "G B JYOTHI GANESH\n",
      "B.SURESH GOWDA\n",
      "YASHPAL A SUVARNA\n",
      "S R VISHWANATH\n",
      "ARABAIL HEBBAR SHIVARAM\n",
      "S.T. SOMASHEKAR\n",
      "Total No. of Winning candidate from Bharatiya Janata Party : 65\n",
      "\n",
      "Party: Independent\n",
      "Winning candidate :\n",
      "K.H.PUTTASWAMY GOWDA (KHP)\n",
      "LATHA MALLIKARJUN\n",
      "Total No. of Winning candidate from Independent : 2\n",
      "\n",
      "Party: Indian National Congress\n",
      "Winning candidate :\n",
      "M.Y.PATIL\n",
      "Bhojaraj\n",
      "B. SHIVANNA\n",
      "K.M. SHIVALINGE GOWDA\n",
      "LAXMAN. SANGAPPA. SAVADI\n",
      "RAMALINGA REDDY\n",
      "M B PATIL.\n",
      "B.B.CHIMMANAKATTI\n",
      "METI. HULLAPPA. YAMANAPPA\n",
      "S.N. SUBBAREDDY (CHINNAKAYALAPALLI)\n",
      "KOUJALAGI. MAHANTESH. SHIVANAND.\n",
      "S.N. NARAYANASWAMY. K.M\n",
      "SHIVANAND PATIL\n",
      "Laxmi R. Hebbalkar\n",
      "Asif (Raju) Sait\n",
      "B Nagendra\n",
      "NARA BHARATH REDDY\n",
      "B.K. SANAGAMESHWARA\n",
      "ESHWAR KHANDRE\n",
      "MANKAL VAIDYA\n",
      "Rahim Khan\n",
      "J. T. PATIL.\n",
      "Basavaraj Neelappa Shivannanavar\n",
      "KRISHNA BYREGOWDA\n",
      "T. RAGHUMURTHY\n",
      "K. HARISH GOWDA\n",
      "C. Puttarangashetty\n",
      "B.Z.ZAMEER AHMED KHAN\n",
      "BASAVARAJU V SHIVAGANGA\n",
      "PRADEEP ESHWAR\n",
      "GANESH PRAKASH HUKKERI\n",
      "H. D. THAMMAIAH\n",
      "DR. M.C. SUDHAKAR\n",
      "K.C.VEERENDRA PUPPY\n",
      "PRIYANK KHARGE\n",
      "S.S.MALLIKARJUN.\n",
      "SHAMANUR SHIVASHANKARAPPA\n",
      "K.H.MUNIYAPPA\n",
      "VINAY KULKARNI\n",
      "H. K. PATIL\n",
      "DINESH GUNDU RAO\n",
      "PRIYAKRISHNA\n",
      "S R SRINIVAS (VASU)\n",
      "ALLAMPRABHU PATIL\n",
      "KANEEZ FATIMA\n",
      "H.M.Ganesh Prasad\n",
      "DESHPANDE RAGHUNATH\n",
      "MANE SRINIVAS\n",
      "RUDRAPPA MANAPPA LAMANI\n",
      "Suresha B S\n",
      "ANIL CHIKKAMADHU\n",
      "Ujaneshwar Basavannappa Banakar\n",
      "D.SUDHAKAR\n",
      "SHANTHANA GOWDA.D.G.\n",
      "B. G. GOVINDAPPA\n",
      "SHARATH KUMAR BACHEGOWDA\n",
      "ABBAYYA PRASAD\n",
      "KASHAPPANAVARA VIJAYANAND SHIVASHANKRAPPA\n",
      "YASHAVANTARAYGOUD. VITTALAGOUD. PATIL\n",
      "B.DEVENDRAPPA\n",
      "Sowmya Reddy\n",
      "AJAY SINGH\n",
      "ANAND. K.S\n",
      "BHARAMGOUDA ALAGOUDA KAGE\n",
      "SANTOSH.S.LAD\n",
      "J N GANESH\n",
      "TANGADAGI SHIVARAJ SANGAPPA\n",
      "D K SHIVAKUMAR\n",
      "SATISH KRISHNA SAIL\n",
      "BABASAHEB PATIL\n",
      "KOTHUR.G. MANJUNATHA\n",
      "ROOPA KALA. M\n",
      "A.R.Krishnamurthy\n",
      "K. RAGHAVENDRA BASAVARAJ HITNAL\n",
      "Dr. G. PARAMESHWARA\n",
      "RAVISHANKAR.D.\n",
      "MAHENDRA. KALLAPPA. TAMMANNAVAR\n",
      "SRINIVAS N T\n",
      "DR|| H D RANGANATH\n",
      "UDAYA.K.M\n",
      "KYATHASANDRA N. RAJANNA\n",
      "DR. MANTAR GOWDA\n",
      "H. C. BALAKRISHNA\n",
      "P.M.Narendraswamy\n",
      "K.Y.NANJEGOWDA\n",
      "RAVIKUMAR GOWDA (GANIGA)\n",
      "U.T. KHADER FAREED\n",
      "G Hampayya Nayak\n",
      "BASAN GOUDA TURVIHAL\n",
      "K. S. BASAVANTHAPPA\n",
      "N.Y.GOPALAKRISHNA\n",
      "APPAJI. ALIYAS. CHANNABASAVARAJ. S/O SHANKARAO. NADAGOUDA.\n",
      "TIMMAPUR. RAMAPPA. BALAPPA.\n",
      "NAYANA MOTAMMA\n",
      "N. CHALUVARAYASWAMY\n",
      "KATAKADHOND VITTHAL DONDIBA\n",
      "DARSHAN DHRUVANARAYANA\n",
      "TANVEER SAIT\n",
      "NINGARADDI HANAMARADDI KONARADDI\n",
      "SHREENIVASAIAH N\n",
      "H.V.VENKATESH\n",
      "K. VENKATESH\n",
      "A C SRINIVASA\n",
      "ASHOK KUMAR RAI\n",
      "Basanagouda Daddal\n",
      "H. A. IQBAL HUSSAIN\n",
      "ASHOK MAHADEVAPPA PATTAN\n",
      "PRAKASH KOLIWAD\n",
      "GURUPADAGOUDA SANGANAGOUDA PATIL\n",
      "GOPALA KRISHNA BELURU\n",
      "E. TUKARAM\n",
      "KELACHANDRA JOSEPH GEORGE\n",
      "VISHWAS VASANT VAIDYA\n",
      "DR. SHARANPRAKASH RUDRAPPA PATIL\n",
      "SHARANABASAPPA DARSHANAPUR\n",
      "N. A. HARIS\n",
      "RIZWAN ARSHAD\n",
      "RAJA VENKATAPPA NAIK\n",
      "ASHOK MALLAPPA MANAGULI\n",
      "HAMPANAGOUDA BADARLI\n",
      "T B Jayachandra\n",
      "BHIMANNA T. NAIK\n",
      "B. M. NAGARAJA\n",
      "MADHU BANGARAPPA\n",
      "T.D.RAJEGOWDA\n",
      "A.B. RAMESHA BANDISIDDEGOWDA\n",
      "DR. H C MAHADEVAPPA\n",
      "G.H. SRINIVASA\n",
      "K Shadakshari\n",
      "SIDDARAMAIAH\n",
      "M.KRISHNAPPA\n",
      "H.R.GAVIYAPPA\n",
      "A.S.PONNANNA\n",
      "CHANNAREDDY PATIL TUNNUR\n",
      "BASAVARAJ RAYAREDDI\n",
      "SATISH LAXMANARAO JARKIHOLI\n",
      "Total No. of Winning candidate from Indian National Congress : 136\n",
      "\n",
      "Party: Janata Dal (Secular)\n",
      "Winning candidate :\n",
      "A. MANJU\n",
      "G. T. DEVEGOWDA\n",
      "H.D. KUMARASWAMY\n",
      "C B SURESH BAABU\n",
      "Karemma\n",
      "BHIMANAGOUDA (RAJUGOUDA) BASANAGOUDA PATIL\n",
      "SHARANA GOWDA KANDAKUR\n",
      "Nemarajanaik.K\n",
      "M.R. MANJUNATH\n",
      "Swaroop Prakash\n",
      "H.D. REVANNA\n",
      "G.D. HARISH GOWDA\n",
      "H.T.MANJU\n",
      "SAMRUDDHI V. MANJUNATH\n",
      "SHARADA PURYANAIK\n",
      "C.N. BALAKRISHNA\n",
      "B.N. RAVI KUMAR\n",
      "G.K. VENKATASHIVAREDDY\n",
      "M.T.KRISHNAPPA\n",
      "Total No. of Winning candidate from Janata Dal (Secular) : 19\n",
      "\n",
      "Party: Kalyana Rajya Pragathi Paksha\n",
      "Winning candidate :\n",
      "G JANARDHAN REDDY\n",
      "Total No. of Winning candidate from Kalyana Rajya Pragathi Paksha : 1\n",
      "\n",
      "Party: Sarvodaya Karnataka Paksha\n",
      "Winning candidate :\n",
      "DHARSHAN PUTTANNAIAH\n",
      "Total No. of Winning candidate from Sarvodaya Karnataka Paksha : 1\n",
      "\n",
      "Total No. of Winning candidate : 224\n"
     ]
    }
   ],
   "source": [
    "# Group by 'Leading Party' and get leading candidate\n",
    "grouped_leading_party = df.groupby('Leading Party')\n",
    "leading_candidate_by_party = grouped_leading_party['Leading Candidate'].unique()\n",
    "\n",
    "# Print the result\n",
    "x=0\n",
    "for party, leading_candidate in leading_candidate_by_party.items():\n",
    "    print(f'Party: {party}')\n",
    "    c=0\n",
    "    print('Winning candidate :')\n",
    "    for candidate in leading_candidate:\n",
    "        print(candidate)\n",
    "        c+=1 \n",
    "        x+=1\n",
    "    print(f'Total No. of Winning candidate from {party} :',c)  \n",
    "    print() \n",
    "print(f'Total No. of Winning candidate :',x)"
   ]
  },
  {
   "cell_type": "markdown",
   "id": "fb01874d",
   "metadata": {
    "papermill": {
     "duration": 0.042883,
     "end_time": "2023-09-07T17:59:51.564970",
     "exception": false,
     "start_time": "2023-09-07T17:59:51.522087",
     "status": "completed"
    },
    "tags": []
   },
   "source": [
    "# Pivot the data to have separate columns for 'Leading Party' and 'Leading Candidate'"
   ]
  },
  {
   "cell_type": "code",
   "execution_count": 50,
   "id": "b1cd79f8",
   "metadata": {
    "execution": {
     "iopub.execute_input": "2023-09-07T17:59:51.655740Z",
     "iopub.status.busy": "2023-09-07T17:59:51.655338Z",
     "iopub.status.idle": "2023-09-07T17:59:51.698092Z",
     "shell.execute_reply": "2023-09-07T17:59:51.696702Z"
    },
    "papermill": {
     "duration": 0.090654,
     "end_time": "2023-09-07T17:59:51.700755",
     "exception": false,
     "start_time": "2023-09-07T17:59:51.610101",
     "status": "completed"
    },
    "tags": []
   },
   "outputs": [
    {
     "data": {
      "text/html": [
       "<div>\n",
       "<style scoped>\n",
       "    .dataframe tbody tr th:only-of-type {\n",
       "        vertical-align: middle;\n",
       "    }\n",
       "\n",
       "    .dataframe tbody tr th {\n",
       "        vertical-align: top;\n",
       "    }\n",
       "\n",
       "    .dataframe thead th {\n",
       "        text-align: right;\n",
       "    }\n",
       "</style>\n",
       "<table border=\"1\" class=\"dataframe\">\n",
       "  <thead>\n",
       "    <tr style=\"text-align: right;\">\n",
       "      <th></th>\n",
       "      <th>constituency</th>\n",
       "      <th>Bharatiya Janata Party</th>\n",
       "      <th>Independent</th>\n",
       "      <th>Indian National Congress</th>\n",
       "      <th>Janata Dal (Secular)</th>\n",
       "      <th>Kalyana Rajya Pragathi Paksha</th>\n",
       "      <th>Sarvodaya Karnataka Paksha</th>\n",
       "    </tr>\n",
       "  </thead>\n",
       "  <tbody>\n",
       "    <tr>\n",
       "      <th>0</th>\n",
       "      <td>Afzalpur</td>\n",
       "      <td>NaN</td>\n",
       "      <td>NaN</td>\n",
       "      <td>M.Y.PATIL</td>\n",
       "      <td>NaN</td>\n",
       "      <td>NaN</td>\n",
       "      <td>NaN</td>\n",
       "    </tr>\n",
       "    <tr>\n",
       "      <th>1</th>\n",
       "      <td>Aland</td>\n",
       "      <td>NaN</td>\n",
       "      <td>NaN</td>\n",
       "      <td>Bhojaraj</td>\n",
       "      <td>NaN</td>\n",
       "      <td>NaN</td>\n",
       "      <td>NaN</td>\n",
       "    </tr>\n",
       "    <tr>\n",
       "      <th>2</th>\n",
       "      <td>Anekal</td>\n",
       "      <td>NaN</td>\n",
       "      <td>NaN</td>\n",
       "      <td>B. SHIVANNA</td>\n",
       "      <td>NaN</td>\n",
       "      <td>NaN</td>\n",
       "      <td>NaN</td>\n",
       "    </tr>\n",
       "    <tr>\n",
       "      <th>3</th>\n",
       "      <td>Arabhavi</td>\n",
       "      <td>BALACHANDRA LAXMANRAO JARKIHOLI</td>\n",
       "      <td>NaN</td>\n",
       "      <td>NaN</td>\n",
       "      <td>NaN</td>\n",
       "      <td>NaN</td>\n",
       "      <td>NaN</td>\n",
       "    </tr>\n",
       "    <tr>\n",
       "      <th>4</th>\n",
       "      <td>Arkalgud</td>\n",
       "      <td>NaN</td>\n",
       "      <td>NaN</td>\n",
       "      <td>NaN</td>\n",
       "      <td>A. MANJU</td>\n",
       "      <td>NaN</td>\n",
       "      <td>NaN</td>\n",
       "    </tr>\n",
       "    <tr>\n",
       "      <th>5</th>\n",
       "      <td>Arsikere</td>\n",
       "      <td>NaN</td>\n",
       "      <td>NaN</td>\n",
       "      <td>K.M. SHIVALINGE GOWDA</td>\n",
       "      <td>NaN</td>\n",
       "      <td>NaN</td>\n",
       "      <td>NaN</td>\n",
       "    </tr>\n",
       "    <tr>\n",
       "      <th>6</th>\n",
       "      <td>Athani</td>\n",
       "      <td>NaN</td>\n",
       "      <td>NaN</td>\n",
       "      <td>LAXMAN. SANGAPPA. SAVADI</td>\n",
       "      <td>NaN</td>\n",
       "      <td>NaN</td>\n",
       "      <td>NaN</td>\n",
       "    </tr>\n",
       "    <tr>\n",
       "      <th>7</th>\n",
       "      <td>Aurad</td>\n",
       "      <td>PRABHU B CHAVAN</td>\n",
       "      <td>NaN</td>\n",
       "      <td>NaN</td>\n",
       "      <td>NaN</td>\n",
       "      <td>NaN</td>\n",
       "      <td>NaN</td>\n",
       "    </tr>\n",
       "    <tr>\n",
       "      <th>8</th>\n",
       "      <td>B.T.M.Layout</td>\n",
       "      <td>NaN</td>\n",
       "      <td>NaN</td>\n",
       "      <td>RAMALINGA REDDY</td>\n",
       "      <td>NaN</td>\n",
       "      <td>NaN</td>\n",
       "      <td>NaN</td>\n",
       "    </tr>\n",
       "    <tr>\n",
       "      <th>9</th>\n",
       "      <td>Babaleshwar</td>\n",
       "      <td>NaN</td>\n",
       "      <td>NaN</td>\n",
       "      <td>M B PATIL.</td>\n",
       "      <td>NaN</td>\n",
       "      <td>NaN</td>\n",
       "      <td>NaN</td>\n",
       "    </tr>\n",
       "  </tbody>\n",
       "</table>\n",
       "</div>"
      ],
      "text/plain": [
       "   constituency           Bharatiya Janata Party Independent  \\\n",
       "0      Afzalpur                              NaN         NaN   \n",
       "1         Aland                              NaN         NaN   \n",
       "2        Anekal                              NaN         NaN   \n",
       "3      Arabhavi  BALACHANDRA LAXMANRAO JARKIHOLI         NaN   \n",
       "4      Arkalgud                              NaN         NaN   \n",
       "5      Arsikere                              NaN         NaN   \n",
       "6        Athani                              NaN         NaN   \n",
       "7         Aurad                  PRABHU B CHAVAN         NaN   \n",
       "8  B.T.M.Layout                              NaN         NaN   \n",
       "9   Babaleshwar                              NaN         NaN   \n",
       "\n",
       "   Indian National Congress Janata Dal (Secular)  \\\n",
       "0                 M.Y.PATIL                  NaN   \n",
       "1                  Bhojaraj                  NaN   \n",
       "2               B. SHIVANNA                  NaN   \n",
       "3                       NaN                  NaN   \n",
       "4                       NaN             A. MANJU   \n",
       "5     K.M. SHIVALINGE GOWDA                  NaN   \n",
       "6  LAXMAN. SANGAPPA. SAVADI                  NaN   \n",
       "7                       NaN                  NaN   \n",
       "8           RAMALINGA REDDY                  NaN   \n",
       "9                M B PATIL.                  NaN   \n",
       "\n",
       "  Kalyana Rajya Pragathi Paksha Sarvodaya Karnataka Paksha  \n",
       "0                           NaN                        NaN  \n",
       "1                           NaN                        NaN  \n",
       "2                           NaN                        NaN  \n",
       "3                           NaN                        NaN  \n",
       "4                           NaN                        NaN  \n",
       "5                           NaN                        NaN  \n",
       "6                           NaN                        NaN  \n",
       "7                           NaN                        NaN  \n",
       "8                           NaN                        NaN  \n",
       "9                           NaN                        NaN  "
      ]
     },
     "execution_count": 50,
     "metadata": {},
     "output_type": "execute_result"
    }
   ],
   "source": [
    "# Pivot the data to have separate columns for 'Leading Candidate' and 'Leading Party'\n",
    "constituency_candidates = df.pivot_table(index='Constituency', columns='Leading Party', values='Leading Candidate', aggfunc='first').reset_index()\n",
    "\n",
    "# Rename the columns for clarity\n",
    "constituency_candidates.columns.name = None  # Remove the leading Party column name\n",
    "constituency_candidates = constituency_candidates.rename(columns={'Constituency': 'constituency'})\n",
    "\n",
    "constituency_candidates.head(10)"
   ]
  },
  {
   "cell_type": "markdown",
   "id": "de6b9e0e",
   "metadata": {
    "papermill": {
     "duration": 0.043851,
     "end_time": "2023-09-07T17:59:51.788830",
     "exception": false,
     "start_time": "2023-09-07T17:59:51.744979",
     "status": "completed"
    },
    "tags": []
   },
   "source": [
    "# Group the data by 'Constituency' and collect leading candidates, Leading Party, Margin in the form of list of list"
   ]
  },
  {
   "cell_type": "code",
   "execution_count": 51,
   "id": "36949b41",
   "metadata": {
    "execution": {
     "iopub.execute_input": "2023-09-07T17:59:51.879193Z",
     "iopub.status.busy": "2023-09-07T17:59:51.877939Z",
     "iopub.status.idle": "2023-09-07T17:59:51.920578Z",
     "shell.execute_reply": "2023-09-07T17:59:51.919247Z"
    },
    "papermill": {
     "duration": 0.091727,
     "end_time": "2023-09-07T17:59:51.923779",
     "exception": false,
     "start_time": "2023-09-07T17:59:51.832052",
     "status": "completed"
    },
    "tags": []
   },
   "outputs": [
    {
     "data": {
      "text/html": [
       "<div>\n",
       "<style scoped>\n",
       "    .dataframe tbody tr th:only-of-type {\n",
       "        vertical-align: middle;\n",
       "    }\n",
       "\n",
       "    .dataframe tbody tr th {\n",
       "        vertical-align: top;\n",
       "    }\n",
       "\n",
       "    .dataframe thead th {\n",
       "        text-align: right;\n",
       "    }\n",
       "</style>\n",
       "<table border=\"1\" class=\"dataframe\">\n",
       "  <thead>\n",
       "    <tr style=\"text-align: right;\">\n",
       "      <th></th>\n",
       "      <th>Constituency</th>\n",
       "      <th>0</th>\n",
       "    </tr>\n",
       "  </thead>\n",
       "  <tbody>\n",
       "    <tr>\n",
       "      <th>0</th>\n",
       "      <td>Afzalpur</td>\n",
       "      <td>[[M.Y.PATIL, Indian National Congress, 4594]]</td>\n",
       "    </tr>\n",
       "    <tr>\n",
       "      <th>1</th>\n",
       "      <td>Aland</td>\n",
       "      <td>[[Bhojaraj, Indian National Congress, 10348]]</td>\n",
       "    </tr>\n",
       "    <tr>\n",
       "      <th>2</th>\n",
       "      <td>Anekal</td>\n",
       "      <td>[[B. SHIVANNA, Indian National Congress, 31325]]</td>\n",
       "    </tr>\n",
       "    <tr>\n",
       "      <th>3</th>\n",
       "      <td>Arabhavi</td>\n",
       "      <td>[[BALACHANDRA LAXMANRAO JARKIHOLI, Bharatiya J...</td>\n",
       "    </tr>\n",
       "    <tr>\n",
       "      <th>4</th>\n",
       "      <td>Arkalgud</td>\n",
       "      <td>[[A. MANJU, Janata Dal (Secular), 19605]]</td>\n",
       "    </tr>\n",
       "    <tr>\n",
       "      <th>5</th>\n",
       "      <td>Arsikere</td>\n",
       "      <td>[[K.M. SHIVALINGE GOWDA, Indian National Congr...</td>\n",
       "    </tr>\n",
       "    <tr>\n",
       "      <th>6</th>\n",
       "      <td>Athani</td>\n",
       "      <td>[[LAXMAN. SANGAPPA. SAVADI, Indian National Co...</td>\n",
       "    </tr>\n",
       "    <tr>\n",
       "      <th>7</th>\n",
       "      <td>Aurad</td>\n",
       "      <td>[[PRABHU B CHAVAN, Bharatiya Janata Party, 9569]]</td>\n",
       "    </tr>\n",
       "    <tr>\n",
       "      <th>8</th>\n",
       "      <td>B.T.M.Layout</td>\n",
       "      <td>[[RAMALINGA REDDY, Indian National Congress, 9...</td>\n",
       "    </tr>\n",
       "    <tr>\n",
       "      <th>9</th>\n",
       "      <td>Babaleshwar</td>\n",
       "      <td>[[M B PATIL., Indian National Congress, 15216]]</td>\n",
       "    </tr>\n",
       "  </tbody>\n",
       "</table>\n",
       "</div>"
      ],
      "text/plain": [
       "   Constituency                                                  0\n",
       "0      Afzalpur      [[M.Y.PATIL, Indian National Congress, 4594]]\n",
       "1         Aland      [[Bhojaraj, Indian National Congress, 10348]]\n",
       "2        Anekal   [[B. SHIVANNA, Indian National Congress, 31325]]\n",
       "3      Arabhavi  [[BALACHANDRA LAXMANRAO JARKIHOLI, Bharatiya J...\n",
       "4      Arkalgud          [[A. MANJU, Janata Dal (Secular), 19605]]\n",
       "5      Arsikere  [[K.M. SHIVALINGE GOWDA, Indian National Congr...\n",
       "6        Athani  [[LAXMAN. SANGAPPA. SAVADI, Indian National Co...\n",
       "7         Aurad  [[PRABHU B CHAVAN, Bharatiya Janata Party, 9569]]\n",
       "8  B.T.M.Layout  [[RAMALINGA REDDY, Indian National Congress, 9...\n",
       "9   Babaleshwar    [[M B PATIL., Indian National Congress, 15216]]"
      ]
     },
     "execution_count": 51,
     "metadata": {},
     "output_type": "execute_result"
    }
   ],
   "source": [
    "# Group the data by 'Constituency' and collect leading candidates\n",
    "constituency_candidates = df.groupby('Constituency')[['Leading Candidate','Leading Party','Margin']].apply(lambda x: x.values.tolist()).reset_index()\n",
    "\n",
    "constituency_candidates.head(10)"
   ]
  },
  {
   "cell_type": "markdown",
   "id": "c97cbf5f",
   "metadata": {
    "papermill": {
     "duration": 0.043611,
     "end_time": "2023-09-07T17:59:52.013124",
     "exception": false,
     "start_time": "2023-09-07T17:59:51.969513",
     "status": "completed"
    },
    "tags": []
   },
   "source": [
    "# Group the data by 'Constituency' and collect Trailing Candidate, Trailing Party, Margin in the form of list of list"
   ]
  },
  {
   "cell_type": "code",
   "execution_count": 52,
   "id": "b4acf55c",
   "metadata": {
    "execution": {
     "iopub.execute_input": "2023-09-07T17:59:52.103490Z",
     "iopub.status.busy": "2023-09-07T17:59:52.102799Z",
     "iopub.status.idle": "2023-09-07T17:59:52.145677Z",
     "shell.execute_reply": "2023-09-07T17:59:52.144308Z"
    },
    "papermill": {
     "duration": 0.091794,
     "end_time": "2023-09-07T17:59:52.148409",
     "exception": false,
     "start_time": "2023-09-07T17:59:52.056615",
     "status": "completed"
    },
    "tags": []
   },
   "outputs": [
    {
     "data": {
      "text/html": [
       "<div>\n",
       "<style scoped>\n",
       "    .dataframe tbody tr th:only-of-type {\n",
       "        vertical-align: middle;\n",
       "    }\n",
       "\n",
       "    .dataframe tbody tr th {\n",
       "        vertical-align: top;\n",
       "    }\n",
       "\n",
       "    .dataframe thead th {\n",
       "        text-align: right;\n",
       "    }\n",
       "</style>\n",
       "<table border=\"1\" class=\"dataframe\">\n",
       "  <thead>\n",
       "    <tr style=\"text-align: right;\">\n",
       "      <th></th>\n",
       "      <th>Constituency</th>\n",
       "      <th>0</th>\n",
       "    </tr>\n",
       "  </thead>\n",
       "  <tbody>\n",
       "    <tr>\n",
       "      <th>0</th>\n",
       "      <td>Afzalpur</td>\n",
       "      <td>[[NITIN VENKAYYA GUTTEDAR, Independent, 4594]]</td>\n",
       "    </tr>\n",
       "    <tr>\n",
       "      <th>1</th>\n",
       "      <td>Aland</td>\n",
       "      <td>[[Subhash Guttedar, Bharatiya Janata Party, 10...</td>\n",
       "    </tr>\n",
       "    <tr>\n",
       "      <th>2</th>\n",
       "      <td>Anekal</td>\n",
       "      <td>[[SRINIVAS. C. HULLAHALLI, Bharatiya Janata Pa...</td>\n",
       "    </tr>\n",
       "    <tr>\n",
       "      <th>3</th>\n",
       "      <td>Arabhavi</td>\n",
       "      <td>[[BHIMAPPA GUNDAPPA GADAD, Independent, 71540]]</td>\n",
       "    </tr>\n",
       "    <tr>\n",
       "      <th>4</th>\n",
       "      <td>Arkalgud</td>\n",
       "      <td>[[M.T. KRISHNEGOWDA, Independent, 19605]]</td>\n",
       "    </tr>\n",
       "    <tr>\n",
       "      <th>5</th>\n",
       "      <td>Arsikere</td>\n",
       "      <td>[[N.R. SANTHOSH, Janata Dal (Secular), 20177]]</td>\n",
       "    </tr>\n",
       "    <tr>\n",
       "      <th>6</th>\n",
       "      <td>Athani</td>\n",
       "      <td>[[MAHESH. IRANGOUDA. KUMATHALLI., Bharatiya Ja...</td>\n",
       "    </tr>\n",
       "    <tr>\n",
       "      <th>7</th>\n",
       "      <td>Aurad</td>\n",
       "      <td>[[BHIMSAIN RAO SHINDE, Indian National Congres...</td>\n",
       "    </tr>\n",
       "    <tr>\n",
       "      <th>8</th>\n",
       "      <td>B.T.M.Layout</td>\n",
       "      <td>[[K.R.SRIDHARA, Bharatiya Janata Party, 9222]]</td>\n",
       "    </tr>\n",
       "    <tr>\n",
       "      <th>9</th>\n",
       "      <td>Babaleshwar</td>\n",
       "      <td>[[VIJAYAKUMAR (VIJAYAGOUDA) PATIL, Bharatiya J...</td>\n",
       "    </tr>\n",
       "  </tbody>\n",
       "</table>\n",
       "</div>"
      ],
      "text/plain": [
       "   Constituency                                                  0\n",
       "0      Afzalpur     [[NITIN VENKAYYA GUTTEDAR, Independent, 4594]]\n",
       "1         Aland  [[Subhash Guttedar, Bharatiya Janata Party, 10...\n",
       "2        Anekal  [[SRINIVAS. C. HULLAHALLI, Bharatiya Janata Pa...\n",
       "3      Arabhavi    [[BHIMAPPA GUNDAPPA GADAD, Independent, 71540]]\n",
       "4      Arkalgud          [[M.T. KRISHNEGOWDA, Independent, 19605]]\n",
       "5      Arsikere     [[N.R. SANTHOSH, Janata Dal (Secular), 20177]]\n",
       "6        Athani  [[MAHESH. IRANGOUDA. KUMATHALLI., Bharatiya Ja...\n",
       "7         Aurad  [[BHIMSAIN RAO SHINDE, Indian National Congres...\n",
       "8  B.T.M.Layout     [[K.R.SRIDHARA, Bharatiya Janata Party, 9222]]\n",
       "9   Babaleshwar  [[VIJAYAKUMAR (VIJAYAGOUDA) PATIL, Bharatiya J..."
      ]
     },
     "execution_count": 52,
     "metadata": {},
     "output_type": "execute_result"
    }
   ],
   "source": [
    "# Group the data by 'Constituency' and collect leading candidates\n",
    "constituency_candidates = df.groupby('Constituency',)[['Trailing Candidate','Trailing Party','Margin']].apply(lambda x: x.values.tolist()).reset_index()\n",
    "\n",
    "constituency_candidates.head(10)"
   ]
  },
  {
   "cell_type": "markdown",
   "id": "22fe72ae",
   "metadata": {
    "papermill": {
     "duration": 0.043683,
     "end_time": "2023-09-07T17:59:52.235900",
     "exception": false,
     "start_time": "2023-09-07T17:59:52.192217",
     "status": "completed"
    },
    "tags": []
   },
   "source": [
    "# Group the df_bjp by 'Constituency' and collect leading candidates from BJP"
   ]
  },
  {
   "cell_type": "code",
   "execution_count": 53,
   "id": "43c15879",
   "metadata": {
    "execution": {
     "iopub.execute_input": "2023-09-07T17:59:52.329265Z",
     "iopub.status.busy": "2023-09-07T17:59:52.328450Z",
     "iopub.status.idle": "2023-09-07T17:59:52.358712Z",
     "shell.execute_reply": "2023-09-07T17:59:52.357542Z"
    },
    "papermill": {
     "duration": 0.078429,
     "end_time": "2023-09-07T17:59:52.361188",
     "exception": false,
     "start_time": "2023-09-07T17:59:52.282759",
     "status": "completed"
    },
    "tags": []
   },
   "outputs": [
    {
     "data": {
      "text/html": [
       "<div>\n",
       "<style scoped>\n",
       "    .dataframe tbody tr th:only-of-type {\n",
       "        vertical-align: middle;\n",
       "    }\n",
       "\n",
       "    .dataframe tbody tr th {\n",
       "        vertical-align: top;\n",
       "    }\n",
       "\n",
       "    .dataframe thead th {\n",
       "        text-align: right;\n",
       "    }\n",
       "</style>\n",
       "<table border=\"1\" class=\"dataframe\">\n",
       "  <thead>\n",
       "    <tr style=\"text-align: right;\">\n",
       "      <th></th>\n",
       "      <th>Constituency</th>\n",
       "      <th>0</th>\n",
       "    </tr>\n",
       "  </thead>\n",
       "  <tbody>\n",
       "    <tr>\n",
       "      <th>0</th>\n",
       "      <td>Arabhavi</td>\n",
       "      <td>[[BALACHANDRA LAXMANRAO JARKIHOLI, 71540]]</td>\n",
       "    </tr>\n",
       "    <tr>\n",
       "      <th>1</th>\n",
       "      <td>Aurad</td>\n",
       "      <td>[[PRABHU B CHAVAN, 9569]]</td>\n",
       "    </tr>\n",
       "    <tr>\n",
       "      <th>2</th>\n",
       "      <td>Bangalore South</td>\n",
       "      <td>[[M Krishnappa, 49699]]</td>\n",
       "    </tr>\n",
       "    <tr>\n",
       "      <th>3</th>\n",
       "      <td>Bantval</td>\n",
       "      <td>[[RAJESH NAIK U, 8282]]</td>\n",
       "    </tr>\n",
       "    <tr>\n",
       "      <th>4</th>\n",
       "      <td>Basavakalyan</td>\n",
       "      <td>[[SHARANU SALAGAR, 14415]]</td>\n",
       "    </tr>\n",
       "    <tr>\n",
       "      <th>5</th>\n",
       "      <td>Basavanagudi</td>\n",
       "      <td>[[RAVI SUBRAMANYA L.A., 54978]]</td>\n",
       "    </tr>\n",
       "    <tr>\n",
       "      <th>6</th>\n",
       "      <td>Belgaum Dakshin</td>\n",
       "      <td>[[ABHAY PATIL, 12308]]</td>\n",
       "    </tr>\n",
       "    <tr>\n",
       "      <th>7</th>\n",
       "      <td>Belthangady</td>\n",
       "      <td>[[HARISH POONJA, 18216]]</td>\n",
       "    </tr>\n",
       "    <tr>\n",
       "      <th>8</th>\n",
       "      <td>Belur</td>\n",
       "      <td>[[H.K. SURESH (HULLALLI SURESH), 7736]]</td>\n",
       "    </tr>\n",
       "    <tr>\n",
       "      <th>9</th>\n",
       "      <td>Bidar South</td>\n",
       "      <td>[[DR. SHAILENDRA BELDALE, 1263]]</td>\n",
       "    </tr>\n",
       "  </tbody>\n",
       "</table>\n",
       "</div>"
      ],
      "text/plain": [
       "      Constituency                                           0\n",
       "0         Arabhavi  [[BALACHANDRA LAXMANRAO JARKIHOLI, 71540]]\n",
       "1            Aurad                   [[PRABHU B CHAVAN, 9569]]\n",
       "2  Bangalore South                     [[M Krishnappa, 49699]]\n",
       "3          Bantval                     [[RAJESH NAIK U, 8282]]\n",
       "4     Basavakalyan                  [[SHARANU SALAGAR, 14415]]\n",
       "5     Basavanagudi             [[RAVI SUBRAMANYA L.A., 54978]]\n",
       "6  Belgaum Dakshin                      [[ABHAY PATIL, 12308]]\n",
       "7      Belthangady                    [[HARISH POONJA, 18216]]\n",
       "8            Belur     [[H.K. SURESH (HULLALLI SURESH), 7736]]\n",
       "9      Bidar South            [[DR. SHAILENDRA BELDALE, 1263]]"
      ]
     },
     "execution_count": 53,
     "metadata": {},
     "output_type": "execute_result"
    }
   ],
   "source": [
    "# Group the data by 'Constituency' and collect leading candidates\n",
    "df_bjp = df[df['Leading Party']=='Bharatiya Janata Party']\n",
    "constituency_candidates = df_bjp.groupby('Constituency')[['Leading Candidate','Margin']].apply(lambda x: x.values.tolist()).reset_index()\n",
    "\n",
    "constituency_candidates.head(10)"
   ]
  },
  {
   "cell_type": "markdown",
   "id": "4682d964",
   "metadata": {
    "papermill": {
     "duration": 0.043472,
     "end_time": "2023-09-07T17:59:52.449207",
     "exception": false,
     "start_time": "2023-09-07T17:59:52.405735",
     "status": "completed"
    },
    "tags": []
   },
   "source": [
    "# Group the df_INC by 'Constituency' and collect leading candidates from INC"
   ]
  },
  {
   "cell_type": "code",
   "execution_count": 54,
   "id": "2a00d72a",
   "metadata": {
    "execution": {
     "iopub.execute_input": "2023-09-07T17:59:52.546481Z",
     "iopub.status.busy": "2023-09-07T17:59:52.546059Z",
     "iopub.status.idle": "2023-09-07T17:59:52.581448Z",
     "shell.execute_reply": "2023-09-07T17:59:52.580271Z"
    },
    "papermill": {
     "duration": 0.085927,
     "end_time": "2023-09-07T17:59:52.584007",
     "exception": false,
     "start_time": "2023-09-07T17:59:52.498080",
     "status": "completed"
    },
    "tags": []
   },
   "outputs": [
    {
     "data": {
      "text/html": [
       "<div>\n",
       "<style scoped>\n",
       "    .dataframe tbody tr th:only-of-type {\n",
       "        vertical-align: middle;\n",
       "    }\n",
       "\n",
       "    .dataframe tbody tr th {\n",
       "        vertical-align: top;\n",
       "    }\n",
       "\n",
       "    .dataframe thead th {\n",
       "        text-align: right;\n",
       "    }\n",
       "</style>\n",
       "<table border=\"1\" class=\"dataframe\">\n",
       "  <thead>\n",
       "    <tr style=\"text-align: right;\">\n",
       "      <th></th>\n",
       "      <th>Constituency</th>\n",
       "      <th>0</th>\n",
       "    </tr>\n",
       "  </thead>\n",
       "  <tbody>\n",
       "    <tr>\n",
       "      <th>0</th>\n",
       "      <td>Afzalpur</td>\n",
       "      <td>[[M.Y.PATIL, 4594]]</td>\n",
       "    </tr>\n",
       "    <tr>\n",
       "      <th>1</th>\n",
       "      <td>Aland</td>\n",
       "      <td>[[Bhojaraj, 10348]]</td>\n",
       "    </tr>\n",
       "    <tr>\n",
       "      <th>2</th>\n",
       "      <td>Anekal</td>\n",
       "      <td>[[B. SHIVANNA, 31325]]</td>\n",
       "    </tr>\n",
       "    <tr>\n",
       "      <th>3</th>\n",
       "      <td>Arsikere</td>\n",
       "      <td>[[K.M. SHIVALINGE GOWDA, 20177]]</td>\n",
       "    </tr>\n",
       "    <tr>\n",
       "      <th>4</th>\n",
       "      <td>Athani</td>\n",
       "      <td>[[LAXMAN. SANGAPPA. SAVADI, 76122]]</td>\n",
       "    </tr>\n",
       "    <tr>\n",
       "      <th>5</th>\n",
       "      <td>B.T.M.Layout</td>\n",
       "      <td>[[RAMALINGA REDDY, 9222]]</td>\n",
       "    </tr>\n",
       "    <tr>\n",
       "      <th>6</th>\n",
       "      <td>Babaleshwar</td>\n",
       "      <td>[[M B PATIL., 15216]]</td>\n",
       "    </tr>\n",
       "    <tr>\n",
       "      <th>7</th>\n",
       "      <td>Badami</td>\n",
       "      <td>[[B.B.CHIMMANAKATTI, 9725]]</td>\n",
       "    </tr>\n",
       "    <tr>\n",
       "      <th>8</th>\n",
       "      <td>Bagalkot</td>\n",
       "      <td>[[METI. HULLAPPA. YAMANAPPA, 5878]]</td>\n",
       "    </tr>\n",
       "    <tr>\n",
       "      <th>9</th>\n",
       "      <td>Bagepalli</td>\n",
       "      <td>[[S.N. SUBBAREDDY (CHINNAKAYALAPALLI), 19179]]</td>\n",
       "    </tr>\n",
       "  </tbody>\n",
       "</table>\n",
       "</div>"
      ],
      "text/plain": [
       "   Constituency                                               0\n",
       "0      Afzalpur                             [[M.Y.PATIL, 4594]]\n",
       "1         Aland                             [[Bhojaraj, 10348]]\n",
       "2        Anekal                          [[B. SHIVANNA, 31325]]\n",
       "3      Arsikere                [[K.M. SHIVALINGE GOWDA, 20177]]\n",
       "4        Athani             [[LAXMAN. SANGAPPA. SAVADI, 76122]]\n",
       "5  B.T.M.Layout                       [[RAMALINGA REDDY, 9222]]\n",
       "6   Babaleshwar                           [[M B PATIL., 15216]]\n",
       "7        Badami                     [[B.B.CHIMMANAKATTI, 9725]]\n",
       "8      Bagalkot             [[METI. HULLAPPA. YAMANAPPA, 5878]]\n",
       "9     Bagepalli  [[S.N. SUBBAREDDY (CHINNAKAYALAPALLI), 19179]]"
      ]
     },
     "execution_count": 54,
     "metadata": {},
     "output_type": "execute_result"
    }
   ],
   "source": [
    "# Group the data by 'Constituency' and collect leading candidates\n",
    "df_INC = df[df['Leading Party']=='Indian National Congress']\n",
    "constituency_candidates = df_INC.groupby('Constituency')[['Leading Candidate','Margin']].apply(lambda x: x.values.tolist()).reset_index()\n",
    "\n",
    "constituency_candidates.head(10)"
   ]
  },
  {
   "cell_type": "code",
   "execution_count": null,
   "id": "e8bb4d09",
   "metadata": {
    "papermill": {
     "duration": 0.045375,
     "end_time": "2023-09-07T17:59:52.673713",
     "exception": false,
     "start_time": "2023-09-07T17:59:52.628338",
     "status": "completed"
    },
    "tags": []
   },
   "outputs": [],
   "source": []
  }
 ],
 "kernelspec": {
  "display_name": "Python 3",
  "language": "python",
  "name": "python3"
 },
 "language_info": {
  "codemirror_mode": {
   "name": "ipython",
   "version": 3
  },
  "file_extension": ".py",
  "mimetype": "text/x-python",
  "name": "python",
  "nbconvert_exporter": "python",
  "pygments_lexer": "ipython3",
  "version": "3.6.4"
 },
 "metadata": {
  "kernelspec": {
   "display_name": "Python 3 (ipykernel)",
   "language": "python",
   "name": "python3"
  },
  "language_info": {
   "codemirror_mode": {
    "name": "ipython",
    "version": 3
   },
   "file_extension": ".py",
   "mimetype": "text/x-python",
   "name": "python",
   "nbconvert_exporter": "python",
   "pygments_lexer": "ipython3",
   "version": "3.10.12"
  },
  "papermill": {
   "default_parameters": {},
   "duration": 36.166754,
   "end_time": "2023-09-07T17:59:53.441064",
   "environment_variables": {},
   "exception": null,
   "input_path": "__notebook__.ipynb",
   "output_path": "__notebook__.ipynb",
   "parameters": {},
   "start_time": "2023-09-07T17:59:17.274310",
   "version": "2.4.0"
  }
 },
 "nbformat": 4,
 "nbformat_minor": 5
}
